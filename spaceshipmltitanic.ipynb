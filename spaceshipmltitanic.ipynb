{
 "cells": [
  {
   "cell_type": "code",
   "execution_count": null,
   "id": "fc2b69e4",
   "metadata": {
    "papermill": {
     "duration": 0.014747,
     "end_time": "2023-03-01T02:17:07.526534",
     "exception": false,
     "start_time": "2023-03-01T02:17:07.511787",
     "status": "completed"
    },
    "tags": []
   },
   "outputs": [],
   "source": []
  },
  {
   "cell_type": "code",
   "execution_count": 1,
   "id": "a5e5d90f",
   "metadata": {
    "_cell_guid": "b1076dfc-b9ad-4769-8c92-a6c4dae69d19",
    "_uuid": "8f2839f25d086af736a60e9eeb907d3b93b6e0e5",
    "execution": {
     "iopub.execute_input": "2023-03-01T02:17:07.556570Z",
     "iopub.status.busy": "2023-03-01T02:17:07.555852Z",
     "iopub.status.idle": "2023-03-01T02:17:07.567914Z",
     "shell.execute_reply": "2023-03-01T02:17:07.566987Z"
    },
    "papermill": {
     "duration": 0.029487,
     "end_time": "2023-03-01T02:17:07.570185",
     "exception": false,
     "start_time": "2023-03-01T02:17:07.540698",
     "status": "completed"
    },
    "tags": []
   },
   "outputs": [
    {
     "name": "stdout",
     "output_type": "stream",
     "text": [
      "/kaggle/input/spaceship-titanic/sample_submission.csv\n",
      "/kaggle/input/spaceship-titanic/train.csv\n",
      "/kaggle/input/spaceship-titanic/test.csv\n"
     ]
    }
   ],
   "source": [
    "# This Python 3 environment comes with many helpful analytics libraries installed\n",
    "# It is defined by the kaggle/python Docker image: https://github.com/kaggle/docker-python\n",
    "# For example, here's several helpful packages to load\n",
    "\n",
    "import numpy as np # linear algebra\n",
    "import pandas as pd # data processing, CSV file I/O (e.g. pd.read_csv)\n",
    "\n",
    "# Input data files are available in the read-only \"../input/\" directory\n",
    "# For example, running this (by clicking run or pressing Shift+Enter) will list all files under the input directory\n",
    "\n",
    "import os\n",
    "for dirname, _, filenames in os.walk('/kaggle/input'):\n",
    "    for filename in filenames:\n",
    "        print(os.path.join(dirname, filename))\n",
    "\n",
    "# You can write up to 20GB to the current directory (/kaggle/working/) that gets preserved as output when you create a version using \"Save & Run All\" \n",
    "# You can also write temporary files to /kaggle/temp/, but they won't be saved outside of the current session"
   ]
  },
  {
   "cell_type": "code",
   "execution_count": 2,
   "id": "d58392a6",
   "metadata": {
    "execution": {
     "iopub.execute_input": "2023-03-01T02:17:07.599702Z",
     "iopub.status.busy": "2023-03-01T02:17:07.599361Z",
     "iopub.status.idle": "2023-03-01T02:17:07.681780Z",
     "shell.execute_reply": "2023-03-01T02:17:07.680157Z"
    },
    "papermill": {
     "duration": 0.100952,
     "end_time": "2023-03-01T02:17:07.684931",
     "exception": false,
     "start_time": "2023-03-01T02:17:07.583979",
     "status": "completed"
    },
    "tags": []
   },
   "outputs": [],
   "source": [
    "train_data =pd.read_csv('/kaggle/input/spaceship-titanic/train.csv')\n",
    "test_data =pd.read_csv('/kaggle/input/spaceship-titanic/test.csv')\n",
    "submission_data =pd.read_csv('/kaggle/input/spaceship-titanic/sample_submission.csv')"
   ]
  },
  {
   "cell_type": "code",
   "execution_count": 3,
   "id": "7b557cf8",
   "metadata": {
    "execution": {
     "iopub.execute_input": "2023-03-01T02:17:07.714780Z",
     "iopub.status.busy": "2023-03-01T02:17:07.714405Z",
     "iopub.status.idle": "2023-03-01T02:17:07.746171Z",
     "shell.execute_reply": "2023-03-01T02:17:07.745062Z"
    },
    "papermill": {
     "duration": 0.049792,
     "end_time": "2023-03-01T02:17:07.748640",
     "exception": false,
     "start_time": "2023-03-01T02:17:07.698848",
     "status": "completed"
    },
    "tags": []
   },
   "outputs": [
    {
     "data": {
      "text/html": [
       "<div>\n",
       "<style scoped>\n",
       "    .dataframe tbody tr th:only-of-type {\n",
       "        vertical-align: middle;\n",
       "    }\n",
       "\n",
       "    .dataframe tbody tr th {\n",
       "        vertical-align: top;\n",
       "    }\n",
       "\n",
       "    .dataframe thead th {\n",
       "        text-align: right;\n",
       "    }\n",
       "</style>\n",
       "<table border=\"1\" class=\"dataframe\">\n",
       "  <thead>\n",
       "    <tr style=\"text-align: right;\">\n",
       "      <th></th>\n",
       "      <th>PassengerId</th>\n",
       "      <th>HomePlanet</th>\n",
       "      <th>CryoSleep</th>\n",
       "      <th>Cabin</th>\n",
       "      <th>Destination</th>\n",
       "      <th>Age</th>\n",
       "      <th>VIP</th>\n",
       "      <th>RoomService</th>\n",
       "      <th>FoodCourt</th>\n",
       "      <th>ShoppingMall</th>\n",
       "      <th>Spa</th>\n",
       "      <th>VRDeck</th>\n",
       "      <th>Name</th>\n",
       "      <th>Transported</th>\n",
       "    </tr>\n",
       "  </thead>\n",
       "  <tbody>\n",
       "    <tr>\n",
       "      <th>0</th>\n",
       "      <td>0001_01</td>\n",
       "      <td>Europa</td>\n",
       "      <td>False</td>\n",
       "      <td>B/0/P</td>\n",
       "      <td>TRAPPIST-1e</td>\n",
       "      <td>39.0</td>\n",
       "      <td>False</td>\n",
       "      <td>0.0</td>\n",
       "      <td>0.0</td>\n",
       "      <td>0.0</td>\n",
       "      <td>0.0</td>\n",
       "      <td>0.0</td>\n",
       "      <td>Maham Ofracculy</td>\n",
       "      <td>False</td>\n",
       "    </tr>\n",
       "    <tr>\n",
       "      <th>1</th>\n",
       "      <td>0002_01</td>\n",
       "      <td>Earth</td>\n",
       "      <td>False</td>\n",
       "      <td>F/0/S</td>\n",
       "      <td>TRAPPIST-1e</td>\n",
       "      <td>24.0</td>\n",
       "      <td>False</td>\n",
       "      <td>109.0</td>\n",
       "      <td>9.0</td>\n",
       "      <td>25.0</td>\n",
       "      <td>549.0</td>\n",
       "      <td>44.0</td>\n",
       "      <td>Juanna Vines</td>\n",
       "      <td>True</td>\n",
       "    </tr>\n",
       "    <tr>\n",
       "      <th>2</th>\n",
       "      <td>0003_01</td>\n",
       "      <td>Europa</td>\n",
       "      <td>False</td>\n",
       "      <td>A/0/S</td>\n",
       "      <td>TRAPPIST-1e</td>\n",
       "      <td>58.0</td>\n",
       "      <td>True</td>\n",
       "      <td>43.0</td>\n",
       "      <td>3576.0</td>\n",
       "      <td>0.0</td>\n",
       "      <td>6715.0</td>\n",
       "      <td>49.0</td>\n",
       "      <td>Altark Susent</td>\n",
       "      <td>False</td>\n",
       "    </tr>\n",
       "    <tr>\n",
       "      <th>3</th>\n",
       "      <td>0003_02</td>\n",
       "      <td>Europa</td>\n",
       "      <td>False</td>\n",
       "      <td>A/0/S</td>\n",
       "      <td>TRAPPIST-1e</td>\n",
       "      <td>33.0</td>\n",
       "      <td>False</td>\n",
       "      <td>0.0</td>\n",
       "      <td>1283.0</td>\n",
       "      <td>371.0</td>\n",
       "      <td>3329.0</td>\n",
       "      <td>193.0</td>\n",
       "      <td>Solam Susent</td>\n",
       "      <td>False</td>\n",
       "    </tr>\n",
       "    <tr>\n",
       "      <th>4</th>\n",
       "      <td>0004_01</td>\n",
       "      <td>Earth</td>\n",
       "      <td>False</td>\n",
       "      <td>F/1/S</td>\n",
       "      <td>TRAPPIST-1e</td>\n",
       "      <td>16.0</td>\n",
       "      <td>False</td>\n",
       "      <td>303.0</td>\n",
       "      <td>70.0</td>\n",
       "      <td>151.0</td>\n",
       "      <td>565.0</td>\n",
       "      <td>2.0</td>\n",
       "      <td>Willy Santantines</td>\n",
       "      <td>True</td>\n",
       "    </tr>\n",
       "  </tbody>\n",
       "</table>\n",
       "</div>"
      ],
      "text/plain": [
       "  PassengerId HomePlanet CryoSleep  Cabin  Destination   Age    VIP  \\\n",
       "0     0001_01     Europa     False  B/0/P  TRAPPIST-1e  39.0  False   \n",
       "1     0002_01      Earth     False  F/0/S  TRAPPIST-1e  24.0  False   \n",
       "2     0003_01     Europa     False  A/0/S  TRAPPIST-1e  58.0   True   \n",
       "3     0003_02     Europa     False  A/0/S  TRAPPIST-1e  33.0  False   \n",
       "4     0004_01      Earth     False  F/1/S  TRAPPIST-1e  16.0  False   \n",
       "\n",
       "   RoomService  FoodCourt  ShoppingMall     Spa  VRDeck               Name  \\\n",
       "0          0.0        0.0           0.0     0.0     0.0    Maham Ofracculy   \n",
       "1        109.0        9.0          25.0   549.0    44.0       Juanna Vines   \n",
       "2         43.0     3576.0           0.0  6715.0    49.0      Altark Susent   \n",
       "3          0.0     1283.0         371.0  3329.0   193.0       Solam Susent   \n",
       "4        303.0       70.0         151.0   565.0     2.0  Willy Santantines   \n",
       "\n",
       "   Transported  \n",
       "0        False  \n",
       "1         True  \n",
       "2        False  \n",
       "3        False  \n",
       "4         True  "
      ]
     },
     "execution_count": 3,
     "metadata": {},
     "output_type": "execute_result"
    }
   ],
   "source": [
    "train_data.head()"
   ]
  },
  {
   "cell_type": "code",
   "execution_count": 4,
   "id": "65aa3458",
   "metadata": {
    "execution": {
     "iopub.execute_input": "2023-03-01T02:17:07.777998Z",
     "iopub.status.busy": "2023-03-01T02:17:07.777621Z",
     "iopub.status.idle": "2023-03-01T02:17:07.785570Z",
     "shell.execute_reply": "2023-03-01T02:17:07.784524Z"
    },
    "papermill": {
     "duration": 0.025073,
     "end_time": "2023-03-01T02:17:07.787404",
     "exception": false,
     "start_time": "2023-03-01T02:17:07.762331",
     "status": "completed"
    },
    "tags": []
   },
   "outputs": [
    {
     "data": {
      "text/plain": [
       "PassengerId      object\n",
       "HomePlanet       object\n",
       "CryoSleep        object\n",
       "Cabin            object\n",
       "Destination      object\n",
       "Age             float64\n",
       "VIP              object\n",
       "RoomService     float64\n",
       "FoodCourt       float64\n",
       "ShoppingMall    float64\n",
       "Spa             float64\n",
       "VRDeck          float64\n",
       "Name             object\n",
       "Transported        bool\n",
       "dtype: object"
      ]
     },
     "execution_count": 4,
     "metadata": {},
     "output_type": "execute_result"
    }
   ],
   "source": [
    "train_data.dtypes"
   ]
  },
  {
   "cell_type": "code",
   "execution_count": 5,
   "id": "6064f967",
   "metadata": {
    "execution": {
     "iopub.execute_input": "2023-03-01T02:17:07.816650Z",
     "iopub.status.busy": "2023-03-01T02:17:07.816302Z",
     "iopub.status.idle": "2023-03-01T02:17:07.825928Z",
     "shell.execute_reply": "2023-03-01T02:17:07.824662Z"
    },
    "papermill": {
     "duration": 0.026777,
     "end_time": "2023-03-01T02:17:07.828027",
     "exception": false,
     "start_time": "2023-03-01T02:17:07.801250",
     "status": "completed"
    },
    "tags": []
   },
   "outputs": [],
   "source": [
    "train_data['CryoSleep']=train_data['CryoSleep'].astype('bool')"
   ]
  },
  {
   "cell_type": "code",
   "execution_count": 6,
   "id": "827b6e8f",
   "metadata": {
    "execution": {
     "iopub.execute_input": "2023-03-01T02:17:07.857255Z",
     "iopub.status.busy": "2023-03-01T02:17:07.856883Z",
     "iopub.status.idle": "2023-03-01T02:17:07.863756Z",
     "shell.execute_reply": "2023-03-01T02:17:07.862367Z"
    },
    "papermill": {
     "duration": 0.024462,
     "end_time": "2023-03-01T02:17:07.866385",
     "exception": false,
     "start_time": "2023-03-01T02:17:07.841923",
     "status": "completed"
    },
    "tags": []
   },
   "outputs": [],
   "source": [
    "train_data['VIP']=train_data['VIP'].astype('bool')"
   ]
  },
  {
   "cell_type": "code",
   "execution_count": 7,
   "id": "e73f8d21",
   "metadata": {
    "execution": {
     "iopub.execute_input": "2023-03-01T02:17:07.895838Z",
     "iopub.status.busy": "2023-03-01T02:17:07.895417Z",
     "iopub.status.idle": "2023-03-01T02:17:07.903199Z",
     "shell.execute_reply": "2023-03-01T02:17:07.901660Z"
    },
    "papermill": {
     "duration": 0.025689,
     "end_time": "2023-03-01T02:17:07.905901",
     "exception": false,
     "start_time": "2023-03-01T02:17:07.880212",
     "status": "completed"
    },
    "tags": []
   },
   "outputs": [
    {
     "data": {
      "text/plain": [
       "PassengerId      object\n",
       "HomePlanet       object\n",
       "CryoSleep          bool\n",
       "Cabin            object\n",
       "Destination      object\n",
       "Age             float64\n",
       "VIP                bool\n",
       "RoomService     float64\n",
       "FoodCourt       float64\n",
       "ShoppingMall    float64\n",
       "Spa             float64\n",
       "VRDeck          float64\n",
       "Name             object\n",
       "Transported        bool\n",
       "dtype: object"
      ]
     },
     "execution_count": 7,
     "metadata": {},
     "output_type": "execute_result"
    }
   ],
   "source": [
    "train_data.dtypes"
   ]
  },
  {
   "cell_type": "code",
   "execution_count": 8,
   "id": "09f9dc04",
   "metadata": {
    "execution": {
     "iopub.execute_input": "2023-03-01T02:17:07.936570Z",
     "iopub.status.busy": "2023-03-01T02:17:07.936157Z",
     "iopub.status.idle": "2023-03-01T02:17:07.959809Z",
     "shell.execute_reply": "2023-03-01T02:17:07.957754Z"
    },
    "papermill": {
     "duration": 0.042521,
     "end_time": "2023-03-01T02:17:07.962588",
     "exception": false,
     "start_time": "2023-03-01T02:17:07.920067",
     "status": "completed"
    },
    "tags": []
   },
   "outputs": [
    {
     "name": "stdout",
     "output_type": "stream",
     "text": [
      "PassengerId\n",
      "False    8693\n",
      "Name: PassengerId, dtype: int64\n",
      "\n",
      "HomePlanet\n",
      "False    8492\n",
      "True      201\n",
      "Name: HomePlanet, dtype: int64\n",
      "\n",
      "CryoSleep\n",
      "False    8693\n",
      "Name: CryoSleep, dtype: int64\n",
      "\n",
      "Cabin\n",
      "False    8494\n",
      "True      199\n",
      "Name: Cabin, dtype: int64\n",
      "\n",
      "Destination\n",
      "False    8511\n",
      "True      182\n",
      "Name: Destination, dtype: int64\n",
      "\n",
      "Age\n",
      "False    8514\n",
      "True      179\n",
      "Name: Age, dtype: int64\n",
      "\n",
      "VIP\n",
      "False    8693\n",
      "Name: VIP, dtype: int64\n",
      "\n",
      "RoomService\n",
      "False    8512\n",
      "True      181\n",
      "Name: RoomService, dtype: int64\n",
      "\n",
      "FoodCourt\n",
      "False    8510\n",
      "True      183\n",
      "Name: FoodCourt, dtype: int64\n",
      "\n",
      "ShoppingMall\n",
      "False    8485\n",
      "True      208\n",
      "Name: ShoppingMall, dtype: int64\n",
      "\n",
      "Spa\n",
      "False    8510\n",
      "True      183\n",
      "Name: Spa, dtype: int64\n",
      "\n",
      "VRDeck\n",
      "False    8505\n",
      "True      188\n",
      "Name: VRDeck, dtype: int64\n",
      "\n",
      "Name\n",
      "False    8493\n",
      "True      200\n",
      "Name: Name, dtype: int64\n",
      "\n",
      "Transported\n",
      "False    8693\n",
      "Name: Transported, dtype: int64\n",
      "\n"
     ]
    }
   ],
   "source": [
    "# Count missing values  in each column\n",
    "missing_data = train_data.isnull()\n",
    "# missing_data.head(5)\n",
    "\n",
    "for column in missing_data.columns.values.tolist():\n",
    "    print(column)\n",
    "    print(missing_data[column].value_counts())\n",
    "    print('')"
   ]
  },
  {
   "cell_type": "code",
   "execution_count": 9,
   "id": "4ebe9b0f",
   "metadata": {
    "execution": {
     "iopub.execute_input": "2023-03-01T02:17:07.992682Z",
     "iopub.status.busy": "2023-03-01T02:17:07.992284Z",
     "iopub.status.idle": "2023-03-01T02:17:08.008825Z",
     "shell.execute_reply": "2023-03-01T02:17:08.007930Z"
    },
    "papermill": {
     "duration": 0.033941,
     "end_time": "2023-03-01T02:17:08.010757",
     "exception": false,
     "start_time": "2023-03-01T02:17:07.976816",
     "status": "completed"
    },
    "tags": []
   },
   "outputs": [
    {
     "data": {
      "text/plain": [
       "RoomService    -0.244611\n",
       "Spa            -0.221131\n",
       "VRDeck         -0.207075\n",
       "Age            -0.075026\n",
       "VIP            -0.024602\n",
       "ShoppingMall    0.010141\n",
       "FoodCourt       0.046566\n",
       "CryoSleep       0.451744\n",
       "Transported     1.000000\n",
       "Name: Transported, dtype: float64"
      ]
     },
     "execution_count": 9,
     "metadata": {},
     "output_type": "execute_result"
    }
   ],
   "source": [
    "train_data.corr()['Transported'].sort_values()"
   ]
  },
  {
   "cell_type": "code",
   "execution_count": 10,
   "id": "9f8b968a",
   "metadata": {
    "execution": {
     "iopub.execute_input": "2023-03-01T02:17:08.042011Z",
     "iopub.status.busy": "2023-03-01T02:17:08.041626Z",
     "iopub.status.idle": "2023-03-01T02:17:08.054258Z",
     "shell.execute_reply": "2023-03-01T02:17:08.052724Z"
    },
    "papermill": {
     "duration": 0.030958,
     "end_time": "2023-03-01T02:17:08.056608",
     "exception": false,
     "start_time": "2023-03-01T02:17:08.025650",
     "status": "completed"
    },
    "tags": []
   },
   "outputs": [
    {
     "data": {
      "text/plain": [
       "Earth     4602\n",
       "Europa    2131\n",
       "Mars      1759\n",
       "Name: HomePlanet, dtype: int64"
      ]
     },
     "execution_count": 10,
     "metadata": {},
     "output_type": "execute_result"
    }
   ],
   "source": [
    "train_data['HomePlanet'].value_counts()"
   ]
  },
  {
   "cell_type": "code",
   "execution_count": 11,
   "id": "15cec0cf",
   "metadata": {
    "execution": {
     "iopub.execute_input": "2023-03-01T02:17:08.086801Z",
     "iopub.status.busy": "2023-03-01T02:17:08.086457Z",
     "iopub.status.idle": "2023-03-01T02:17:08.092727Z",
     "shell.execute_reply": "2023-03-01T02:17:08.091628Z"
    },
    "papermill": {
     "duration": 0.023788,
     "end_time": "2023-03-01T02:17:08.094628",
     "exception": false,
     "start_time": "2023-03-01T02:17:08.070840",
     "status": "completed"
    },
    "tags": []
   },
   "outputs": [],
   "source": [
    "train_data['HomePlanet'].replace(np.nan,'Earth',inplace=True)"
   ]
  },
  {
   "cell_type": "code",
   "execution_count": 12,
   "id": "e88760cb",
   "metadata": {
    "execution": {
     "iopub.execute_input": "2023-03-01T02:17:08.124992Z",
     "iopub.status.busy": "2023-03-01T02:17:08.124617Z",
     "iopub.status.idle": "2023-03-01T02:17:08.131867Z",
     "shell.execute_reply": "2023-03-01T02:17:08.131010Z"
    },
    "papermill": {
     "duration": 0.025019,
     "end_time": "2023-03-01T02:17:08.134108",
     "exception": false,
     "start_time": "2023-03-01T02:17:08.109089",
     "status": "completed"
    },
    "tags": []
   },
   "outputs": [
    {
     "data": {
      "text/plain": [
       "0"
      ]
     },
     "execution_count": 12,
     "metadata": {},
     "output_type": "execute_result"
    }
   ],
   "source": [
    "train_data['HomePlanet'].isnull().sum()"
   ]
  },
  {
   "cell_type": "code",
   "execution_count": 13,
   "id": "31ce6e04",
   "metadata": {
    "execution": {
     "iopub.execute_input": "2023-03-01T02:17:08.163821Z",
     "iopub.status.busy": "2023-03-01T02:17:08.163416Z",
     "iopub.status.idle": "2023-03-01T02:17:08.170382Z",
     "shell.execute_reply": "2023-03-01T02:17:08.169456Z"
    },
    "papermill": {
     "duration": 0.023951,
     "end_time": "2023-03-01T02:17:08.172293",
     "exception": false,
     "start_time": "2023-03-01T02:17:08.148342",
     "status": "completed"
    },
    "tags": []
   },
   "outputs": [
    {
     "data": {
      "text/plain": [
       "199"
      ]
     },
     "execution_count": 13,
     "metadata": {},
     "output_type": "execute_result"
    }
   ],
   "source": [
    "train_data['Cabin'].isnull().sum()"
   ]
  },
  {
   "cell_type": "code",
   "execution_count": 14,
   "id": "d97e367c",
   "metadata": {
    "execution": {
     "iopub.execute_input": "2023-03-01T02:17:08.204015Z",
     "iopub.status.busy": "2023-03-01T02:17:08.203153Z",
     "iopub.status.idle": "2023-03-01T02:17:08.210093Z",
     "shell.execute_reply": "2023-03-01T02:17:08.209415Z"
    },
    "papermill": {
     "duration": 0.025171,
     "end_time": "2023-03-01T02:17:08.211752",
     "exception": false,
     "start_time": "2023-03-01T02:17:08.186581",
     "status": "completed"
    },
    "tags": []
   },
   "outputs": [
    {
     "data": {
      "text/plain": [
       "182"
      ]
     },
     "execution_count": 14,
     "metadata": {},
     "output_type": "execute_result"
    }
   ],
   "source": [
    "train_data['Destination'].isnull().sum()"
   ]
  },
  {
   "cell_type": "code",
   "execution_count": 15,
   "id": "4a8cb854",
   "metadata": {
    "execution": {
     "iopub.execute_input": "2023-03-01T02:17:08.244105Z",
     "iopub.status.busy": "2023-03-01T02:17:08.243739Z",
     "iopub.status.idle": "2023-03-01T02:17:08.252938Z",
     "shell.execute_reply": "2023-03-01T02:17:08.251571Z"
    },
    "papermill": {
     "duration": 0.028273,
     "end_time": "2023-03-01T02:17:08.255322",
     "exception": false,
     "start_time": "2023-03-01T02:17:08.227049",
     "status": "completed"
    },
    "tags": []
   },
   "outputs": [
    {
     "data": {
      "text/plain": [
       "TRAPPIST-1e      5915\n",
       "55 Cancri e      1800\n",
       "PSO J318.5-22     796\n",
       "Name: Destination, dtype: int64"
      ]
     },
     "execution_count": 15,
     "metadata": {},
     "output_type": "execute_result"
    }
   ],
   "source": [
    "train_data['Destination'].value_counts()"
   ]
  },
  {
   "cell_type": "code",
   "execution_count": 16,
   "id": "be87d51f",
   "metadata": {
    "execution": {
     "iopub.execute_input": "2023-03-01T02:17:08.287488Z",
     "iopub.status.busy": "2023-03-01T02:17:08.286995Z",
     "iopub.status.idle": "2023-03-01T02:17:08.292747Z",
     "shell.execute_reply": "2023-03-01T02:17:08.291653Z"
    },
    "papermill": {
     "duration": 0.024849,
     "end_time": "2023-03-01T02:17:08.294936",
     "exception": false,
     "start_time": "2023-03-01T02:17:08.270087",
     "status": "completed"
    },
    "tags": []
   },
   "outputs": [],
   "source": [
    "# Replace nan cell with max value(TRAPPIST-1e)\n",
    "train_data['Destination'].replace(np.nan,'TRAPPIST-1e',inplace=True)"
   ]
  },
  {
   "cell_type": "code",
   "execution_count": 17,
   "id": "2b504a90",
   "metadata": {
    "execution": {
     "iopub.execute_input": "2023-03-01T02:17:08.326184Z",
     "iopub.status.busy": "2023-03-01T02:17:08.325649Z",
     "iopub.status.idle": "2023-03-01T02:17:08.331965Z",
     "shell.execute_reply": "2023-03-01T02:17:08.331281Z"
    },
    "papermill": {
     "duration": 0.024006,
     "end_time": "2023-03-01T02:17:08.333703",
     "exception": false,
     "start_time": "2023-03-01T02:17:08.309697",
     "status": "completed"
    },
    "tags": []
   },
   "outputs": [
    {
     "data": {
      "text/plain": [
       "0"
      ]
     },
     "execution_count": 17,
     "metadata": {},
     "output_type": "execute_result"
    }
   ],
   "source": [
    "train_data['Destination'].isnull().sum()"
   ]
  },
  {
   "cell_type": "code",
   "execution_count": 18,
   "id": "317523eb",
   "metadata": {
    "execution": {
     "iopub.execute_input": "2023-03-01T02:17:08.365043Z",
     "iopub.status.busy": "2023-03-01T02:17:08.364550Z",
     "iopub.status.idle": "2023-03-01T02:17:08.371305Z",
     "shell.execute_reply": "2023-03-01T02:17:08.370356Z"
    },
    "papermill": {
     "duration": 0.024997,
     "end_time": "2023-03-01T02:17:08.373188",
     "exception": false,
     "start_time": "2023-03-01T02:17:08.348191",
     "status": "completed"
    },
    "tags": []
   },
   "outputs": [
    {
     "data": {
      "text/plain": [
       "200"
      ]
     },
     "execution_count": 18,
     "metadata": {},
     "output_type": "execute_result"
    }
   ],
   "source": [
    "train_data['Name'].isnull().sum()"
   ]
  },
  {
   "cell_type": "code",
   "execution_count": 19,
   "id": "ec9ef133",
   "metadata": {
    "execution": {
     "iopub.execute_input": "2023-03-01T02:17:08.405203Z",
     "iopub.status.busy": "2023-03-01T02:17:08.404745Z",
     "iopub.status.idle": "2023-03-01T02:17:08.410208Z",
     "shell.execute_reply": "2023-03-01T02:17:08.409069Z"
    },
    "papermill": {
     "duration": 0.024666,
     "end_time": "2023-03-01T02:17:08.412633",
     "exception": false,
     "start_time": "2023-03-01T02:17:08.387967",
     "status": "completed"
    },
    "tags": []
   },
   "outputs": [],
   "source": [
    "# Replacing missing age value with mean\n",
    "mean =train_data['Age'].mean()\n",
    "train_data['Age'].replace(np.nan,mean,inplace=True)"
   ]
  },
  {
   "cell_type": "code",
   "execution_count": 20,
   "id": "db0fdbee",
   "metadata": {
    "execution": {
     "iopub.execute_input": "2023-03-01T02:17:08.444553Z",
     "iopub.status.busy": "2023-03-01T02:17:08.443935Z",
     "iopub.status.idle": "2023-03-01T02:17:08.457697Z",
     "shell.execute_reply": "2023-03-01T02:17:08.456080Z"
    },
    "papermill": {
     "duration": 0.032387,
     "end_time": "2023-03-01T02:17:08.460025",
     "exception": false,
     "start_time": "2023-03-01T02:17:08.427638",
     "status": "completed"
    },
    "tags": []
   },
   "outputs": [
    {
     "data": {
      "text/plain": [
       "0.0       5577\n",
       "1.0        117\n",
       "2.0         79\n",
       "3.0         61\n",
       "4.0         47\n",
       "          ... \n",
       "1612.0       1\n",
       "2598.0       1\n",
       "632.0        1\n",
       "378.0        1\n",
       "745.0        1\n",
       "Name: RoomService, Length: 1273, dtype: int64"
      ]
     },
     "execution_count": 20,
     "metadata": {},
     "output_type": "execute_result"
    }
   ],
   "source": [
    "train_data['RoomService'].value_counts()"
   ]
  },
  {
   "cell_type": "code",
   "execution_count": 21,
   "id": "dcbf62d5",
   "metadata": {
    "execution": {
     "iopub.execute_input": "2023-03-01T02:17:08.492570Z",
     "iopub.status.busy": "2023-03-01T02:17:08.491996Z",
     "iopub.status.idle": "2023-03-01T02:17:08.501493Z",
     "shell.execute_reply": "2023-03-01T02:17:08.500674Z"
    },
    "papermill": {
     "duration": 0.028343,
     "end_time": "2023-03-01T02:17:08.503714",
     "exception": false,
     "start_time": "2023-03-01T02:17:08.475371",
     "status": "completed"
    },
    "tags": []
   },
   "outputs": [],
   "source": [
    "\n",
    "train_data.dropna(subset=['Name'],axis=0,inplace=True)"
   ]
  },
  {
   "cell_type": "code",
   "execution_count": 22,
   "id": "fcc9f49e",
   "metadata": {
    "execution": {
     "iopub.execute_input": "2023-03-01T02:17:08.535880Z",
     "iopub.status.busy": "2023-03-01T02:17:08.535484Z",
     "iopub.status.idle": "2023-03-01T02:17:08.545428Z",
     "shell.execute_reply": "2023-03-01T02:17:08.544047Z"
    },
    "papermill": {
     "duration": 0.028943,
     "end_time": "2023-03-01T02:17:08.547714",
     "exception": false,
     "start_time": "2023-03-01T02:17:08.518771",
     "status": "completed"
    },
    "tags": []
   },
   "outputs": [],
   "source": [
    "train_data.dropna(subset=['Spa'],axis=0,inplace=True)"
   ]
  },
  {
   "cell_type": "code",
   "execution_count": 23,
   "id": "aab8b44b",
   "metadata": {
    "execution": {
     "iopub.execute_input": "2023-03-01T02:17:08.579224Z",
     "iopub.status.busy": "2023-03-01T02:17:08.578859Z",
     "iopub.status.idle": "2023-03-01T02:17:08.587064Z",
     "shell.execute_reply": "2023-03-01T02:17:08.585910Z"
    },
    "papermill": {
     "duration": 0.026584,
     "end_time": "2023-03-01T02:17:08.589230",
     "exception": false,
     "start_time": "2023-03-01T02:17:08.562646",
     "status": "completed"
    },
    "tags": []
   },
   "outputs": [],
   "source": [
    "train_data.dropna(subset=['RoomService'],axis=0,inplace=True)"
   ]
  },
  {
   "cell_type": "code",
   "execution_count": 24,
   "id": "5f325841",
   "metadata": {
    "execution": {
     "iopub.execute_input": "2023-03-01T02:17:08.621771Z",
     "iopub.status.busy": "2023-03-01T02:17:08.621117Z",
     "iopub.status.idle": "2023-03-01T02:17:08.629092Z",
     "shell.execute_reply": "2023-03-01T02:17:08.627962Z"
    },
    "papermill": {
     "duration": 0.02743,
     "end_time": "2023-03-01T02:17:08.631479",
     "exception": false,
     "start_time": "2023-03-01T02:17:08.604049",
     "status": "completed"
    },
    "tags": []
   },
   "outputs": [],
   "source": [
    "train_data.dropna(subset=['VRDeck'],axis=0,inplace=True)"
   ]
  },
  {
   "cell_type": "code",
   "execution_count": 25,
   "id": "1b37130b",
   "metadata": {
    "execution": {
     "iopub.execute_input": "2023-03-01T02:17:08.663140Z",
     "iopub.status.busy": "2023-03-01T02:17:08.662321Z",
     "iopub.status.idle": "2023-03-01T02:17:08.669924Z",
     "shell.execute_reply": "2023-03-01T02:17:08.668931Z"
    },
    "papermill": {
     "duration": 0.02567,
     "end_time": "2023-03-01T02:17:08.672079",
     "exception": false,
     "start_time": "2023-03-01T02:17:08.646409",
     "status": "completed"
    },
    "tags": []
   },
   "outputs": [],
   "source": [
    "train_data.dropna(subset=['FoodCourt'],axis=0,inplace=True)"
   ]
  },
  {
   "cell_type": "code",
   "execution_count": 26,
   "id": "33abe6fa",
   "metadata": {
    "execution": {
     "iopub.execute_input": "2023-03-01T02:17:08.704364Z",
     "iopub.status.busy": "2023-03-01T02:17:08.703780Z",
     "iopub.status.idle": "2023-03-01T02:17:08.710447Z",
     "shell.execute_reply": "2023-03-01T02:17:08.709831Z"
    },
    "papermill": {
     "duration": 0.024847,
     "end_time": "2023-03-01T02:17:08.712350",
     "exception": false,
     "start_time": "2023-03-01T02:17:08.687503",
     "status": "completed"
    },
    "tags": []
   },
   "outputs": [],
   "source": [
    "train_data.dropna(subset=['ShoppingMall'],axis=0,inplace=True)"
   ]
  },
  {
   "cell_type": "code",
   "execution_count": 27,
   "id": "7e525ad2",
   "metadata": {
    "execution": {
     "iopub.execute_input": "2023-03-01T02:17:08.745357Z",
     "iopub.status.busy": "2023-03-01T02:17:08.744737Z",
     "iopub.status.idle": "2023-03-01T02:17:08.752885Z",
     "shell.execute_reply": "2023-03-01T02:17:08.751618Z"
    },
    "papermill": {
     "duration": 0.027235,
     "end_time": "2023-03-01T02:17:08.755264",
     "exception": false,
     "start_time": "2023-03-01T02:17:08.728029",
     "status": "completed"
    },
    "tags": []
   },
   "outputs": [],
   "source": [
    "train_data.dropna(subset=['Cabin'],axis=0,inplace=True)"
   ]
  },
  {
   "cell_type": "code",
   "execution_count": 28,
   "id": "3e94e8e8",
   "metadata": {
    "execution": {
     "iopub.execute_input": "2023-03-01T02:17:08.786861Z",
     "iopub.status.busy": "2023-03-01T02:17:08.786248Z",
     "iopub.status.idle": "2023-03-01T02:17:08.792981Z",
     "shell.execute_reply": "2023-03-01T02:17:08.792233Z"
    },
    "papermill": {
     "duration": 0.024566,
     "end_time": "2023-03-01T02:17:08.794772",
     "exception": false,
     "start_time": "2023-03-01T02:17:08.770206",
     "status": "completed"
    },
    "tags": []
   },
   "outputs": [
    {
     "data": {
      "text/plain": [
       "0"
      ]
     },
     "execution_count": 28,
     "metadata": {},
     "output_type": "execute_result"
    }
   ],
   "source": [
    "train_data['Cabin'].isnull().sum()"
   ]
  },
  {
   "cell_type": "code",
   "execution_count": 29,
   "id": "457561ed",
   "metadata": {
    "execution": {
     "iopub.execute_input": "2023-03-01T02:17:08.827901Z",
     "iopub.status.busy": "2023-03-01T02:17:08.826979Z",
     "iopub.status.idle": "2023-03-01T02:17:08.836964Z",
     "shell.execute_reply": "2023-03-01T02:17:08.836160Z"
    },
    "papermill": {
     "duration": 0.028987,
     "end_time": "2023-03-01T02:17:08.838669",
     "exception": false,
     "start_time": "2023-03-01T02:17:08.809682",
     "status": "completed"
    },
    "tags": []
   },
   "outputs": [
    {
     "data": {
      "text/plain": [
       "B/201/P    7\n",
       "C/137/S    7\n",
       "E/13/S     7\n",
       "B/11/S     7\n",
       "G/734/S    7\n",
       "          ..\n",
       "F/701/P    1\n",
       "G/547/S    1\n",
       "G/557/P    1\n",
       "G/556/P    1\n",
       "E/291/P    1\n",
       "Name: Cabin, Length: 5849, dtype: int64"
      ]
     },
     "execution_count": 29,
     "metadata": {},
     "output_type": "execute_result"
    }
   ],
   "source": [
    "train_data['Cabin'].value_counts()"
   ]
  },
  {
   "cell_type": "code",
   "execution_count": 30,
   "id": "e3a72bef",
   "metadata": {
    "execution": {
     "iopub.execute_input": "2023-03-01T02:17:08.870078Z",
     "iopub.status.busy": "2023-03-01T02:17:08.869677Z",
     "iopub.status.idle": "2023-03-01T02:17:08.883862Z",
     "shell.execute_reply": "2023-03-01T02:17:08.882376Z"
    },
    "papermill": {
     "duration": 0.032816,
     "end_time": "2023-03-01T02:17:08.886316",
     "exception": false,
     "start_time": "2023-03-01T02:17:08.853500",
     "status": "completed"
    },
    "tags": []
   },
   "outputs": [
    {
     "data": {
      "text/plain": [
       "PassengerId              9280_02\n",
       "HomePlanet                  Mars\n",
       "CryoSleep                   True\n",
       "Cabin                      T/3/P\n",
       "Destination          TRAPPIST-1e\n",
       "Age                         79.0\n",
       "VIP                         True\n",
       "RoomService               9920.0\n",
       "FoodCourt                29813.0\n",
       "ShoppingMall             12253.0\n",
       "Spa                      22408.0\n",
       "VRDeck                   20336.0\n",
       "Name            Zubeneb Pasharne\n",
       "Transported                 True\n",
       "dtype: object"
      ]
     },
     "execution_count": 30,
     "metadata": {},
     "output_type": "execute_result"
    }
   ],
   "source": [
    "train_data.max()"
   ]
  },
  {
   "cell_type": "code",
   "execution_count": 31,
   "id": "b7a410af",
   "metadata": {
    "execution": {
     "iopub.execute_input": "2023-03-01T02:17:08.918302Z",
     "iopub.status.busy": "2023-03-01T02:17:08.917924Z",
     "iopub.status.idle": "2023-03-01T02:17:08.927835Z",
     "shell.execute_reply": "2023-03-01T02:17:08.926861Z"
    },
    "papermill": {
     "duration": 0.028804,
     "end_time": "2023-03-01T02:17:08.930168",
     "exception": false,
     "start_time": "2023-03-01T02:17:08.901364",
     "status": "completed"
    },
    "tags": []
   },
   "outputs": [
    {
     "data": {
      "text/plain": [
       "PassengerId     0\n",
       "HomePlanet      0\n",
       "CryoSleep       0\n",
       "Cabin           0\n",
       "Destination     0\n",
       "Age             0\n",
       "VIP             0\n",
       "RoomService     0\n",
       "FoodCourt       0\n",
       "ShoppingMall    0\n",
       "Spa             0\n",
       "VRDeck          0\n",
       "Name            0\n",
       "Transported     0\n",
       "dtype: int64"
      ]
     },
     "execution_count": 31,
     "metadata": {},
     "output_type": "execute_result"
    }
   ],
   "source": [
    "train_data.isnull().sum()"
   ]
  },
  {
   "cell_type": "code",
   "execution_count": 32,
   "id": "785330d8",
   "metadata": {
    "execution": {
     "iopub.execute_input": "2023-03-01T02:17:08.964552Z",
     "iopub.status.busy": "2023-03-01T02:17:08.963091Z",
     "iopub.status.idle": "2023-03-01T02:17:08.980692Z",
     "shell.execute_reply": "2023-03-01T02:17:08.980037Z"
    },
    "papermill": {
     "duration": 0.036331,
     "end_time": "2023-03-01T02:17:08.982521",
     "exception": false,
     "start_time": "2023-03-01T02:17:08.946190",
     "status": "completed"
    },
    "tags": []
   },
   "outputs": [
    {
     "data": {
      "text/html": [
       "<div>\n",
       "<style scoped>\n",
       "    .dataframe tbody tr th:only-of-type {\n",
       "        vertical-align: middle;\n",
       "    }\n",
       "\n",
       "    .dataframe tbody tr th {\n",
       "        vertical-align: top;\n",
       "    }\n",
       "\n",
       "    .dataframe thead th {\n",
       "        text-align: right;\n",
       "    }\n",
       "</style>\n",
       "<table border=\"1\" class=\"dataframe\">\n",
       "  <thead>\n",
       "    <tr style=\"text-align: right;\">\n",
       "      <th></th>\n",
       "      <th>PassengerId</th>\n",
       "      <th>HomePlanet</th>\n",
       "      <th>CryoSleep</th>\n",
       "      <th>Cabin</th>\n",
       "      <th>Destination</th>\n",
       "      <th>Age</th>\n",
       "      <th>VIP</th>\n",
       "      <th>RoomService</th>\n",
       "      <th>FoodCourt</th>\n",
       "      <th>ShoppingMall</th>\n",
       "      <th>Spa</th>\n",
       "      <th>VRDeck</th>\n",
       "      <th>Name</th>\n",
       "      <th>Transported</th>\n",
       "    </tr>\n",
       "  </thead>\n",
       "  <tbody>\n",
       "    <tr>\n",
       "      <th>0</th>\n",
       "      <td>0001_01</td>\n",
       "      <td>Europa</td>\n",
       "      <td>False</td>\n",
       "      <td>B/0/P</td>\n",
       "      <td>TRAPPIST-1e</td>\n",
       "      <td>39.0</td>\n",
       "      <td>False</td>\n",
       "      <td>0.0</td>\n",
       "      <td>0.0</td>\n",
       "      <td>0.0</td>\n",
       "      <td>0.0</td>\n",
       "      <td>0.0</td>\n",
       "      <td>Maham Ofracculy</td>\n",
       "      <td>False</td>\n",
       "    </tr>\n",
       "    <tr>\n",
       "      <th>1</th>\n",
       "      <td>0002_01</td>\n",
       "      <td>Earth</td>\n",
       "      <td>False</td>\n",
       "      <td>F/0/S</td>\n",
       "      <td>TRAPPIST-1e</td>\n",
       "      <td>24.0</td>\n",
       "      <td>False</td>\n",
       "      <td>109.0</td>\n",
       "      <td>9.0</td>\n",
       "      <td>25.0</td>\n",
       "      <td>549.0</td>\n",
       "      <td>44.0</td>\n",
       "      <td>Juanna Vines</td>\n",
       "      <td>True</td>\n",
       "    </tr>\n",
       "    <tr>\n",
       "      <th>2</th>\n",
       "      <td>0003_01</td>\n",
       "      <td>Europa</td>\n",
       "      <td>False</td>\n",
       "      <td>A/0/S</td>\n",
       "      <td>TRAPPIST-1e</td>\n",
       "      <td>58.0</td>\n",
       "      <td>True</td>\n",
       "      <td>43.0</td>\n",
       "      <td>3576.0</td>\n",
       "      <td>0.0</td>\n",
       "      <td>6715.0</td>\n",
       "      <td>49.0</td>\n",
       "      <td>Altark Susent</td>\n",
       "      <td>False</td>\n",
       "    </tr>\n",
       "    <tr>\n",
       "      <th>3</th>\n",
       "      <td>0003_02</td>\n",
       "      <td>Europa</td>\n",
       "      <td>False</td>\n",
       "      <td>A/0/S</td>\n",
       "      <td>TRAPPIST-1e</td>\n",
       "      <td>33.0</td>\n",
       "      <td>False</td>\n",
       "      <td>0.0</td>\n",
       "      <td>1283.0</td>\n",
       "      <td>371.0</td>\n",
       "      <td>3329.0</td>\n",
       "      <td>193.0</td>\n",
       "      <td>Solam Susent</td>\n",
       "      <td>False</td>\n",
       "    </tr>\n",
       "    <tr>\n",
       "      <th>4</th>\n",
       "      <td>0004_01</td>\n",
       "      <td>Earth</td>\n",
       "      <td>False</td>\n",
       "      <td>F/1/S</td>\n",
       "      <td>TRAPPIST-1e</td>\n",
       "      <td>16.0</td>\n",
       "      <td>False</td>\n",
       "      <td>303.0</td>\n",
       "      <td>70.0</td>\n",
       "      <td>151.0</td>\n",
       "      <td>565.0</td>\n",
       "      <td>2.0</td>\n",
       "      <td>Willy Santantines</td>\n",
       "      <td>True</td>\n",
       "    </tr>\n",
       "  </tbody>\n",
       "</table>\n",
       "</div>"
      ],
      "text/plain": [
       "  PassengerId HomePlanet  CryoSleep  Cabin  Destination   Age    VIP  \\\n",
       "0     0001_01     Europa      False  B/0/P  TRAPPIST-1e  39.0  False   \n",
       "1     0002_01      Earth      False  F/0/S  TRAPPIST-1e  24.0  False   \n",
       "2     0003_01     Europa      False  A/0/S  TRAPPIST-1e  58.0   True   \n",
       "3     0003_02     Europa      False  A/0/S  TRAPPIST-1e  33.0  False   \n",
       "4     0004_01      Earth      False  F/1/S  TRAPPIST-1e  16.0  False   \n",
       "\n",
       "   RoomService  FoodCourt  ShoppingMall     Spa  VRDeck               Name  \\\n",
       "0          0.0        0.0           0.0     0.0     0.0    Maham Ofracculy   \n",
       "1        109.0        9.0          25.0   549.0    44.0       Juanna Vines   \n",
       "2         43.0     3576.0           0.0  6715.0    49.0      Altark Susent   \n",
       "3          0.0     1283.0         371.0  3329.0   193.0       Solam Susent   \n",
       "4        303.0       70.0         151.0   565.0     2.0  Willy Santantines   \n",
       "\n",
       "   Transported  \n",
       "0        False  \n",
       "1         True  \n",
       "2        False  \n",
       "3        False  \n",
       "4         True  "
      ]
     },
     "execution_count": 32,
     "metadata": {},
     "output_type": "execute_result"
    }
   ],
   "source": [
    "train_data.head()"
   ]
  },
  {
   "cell_type": "code",
   "execution_count": 33,
   "id": "d7a86622",
   "metadata": {
    "execution": {
     "iopub.execute_input": "2023-03-01T02:17:09.016005Z",
     "iopub.status.busy": "2023-03-01T02:17:09.014760Z",
     "iopub.status.idle": "2023-03-01T02:17:09.034217Z",
     "shell.execute_reply": "2023-03-01T02:17:09.032792Z"
    },
    "papermill": {
     "duration": 0.039021,
     "end_time": "2023-03-01T02:17:09.037120",
     "exception": false,
     "start_time": "2023-03-01T02:17:08.998099",
     "status": "completed"
    },
    "tags": []
   },
   "outputs": [
    {
     "data": {
      "text/html": [
       "<div>\n",
       "<style scoped>\n",
       "    .dataframe tbody tr th:only-of-type {\n",
       "        vertical-align: middle;\n",
       "    }\n",
       "\n",
       "    .dataframe tbody tr th {\n",
       "        vertical-align: top;\n",
       "    }\n",
       "\n",
       "    .dataframe thead th {\n",
       "        text-align: right;\n",
       "    }\n",
       "</style>\n",
       "<table border=\"1\" class=\"dataframe\">\n",
       "  <thead>\n",
       "    <tr style=\"text-align: right;\">\n",
       "      <th></th>\n",
       "      <th>PassengerId</th>\n",
       "      <th>HomePlanet</th>\n",
       "      <th>CryoSleep</th>\n",
       "      <th>Cabin</th>\n",
       "      <th>Destination</th>\n",
       "      <th>Age</th>\n",
       "      <th>VIP</th>\n",
       "      <th>RoomService</th>\n",
       "      <th>FoodCourt</th>\n",
       "      <th>ShoppingMall</th>\n",
       "      <th>Spa</th>\n",
       "      <th>VRDeck</th>\n",
       "      <th>Name</th>\n",
       "      <th>Transported</th>\n",
       "    </tr>\n",
       "  </thead>\n",
       "  <tbody>\n",
       "    <tr>\n",
       "      <th>0</th>\n",
       "      <td>0001_01</td>\n",
       "      <td>Europa</td>\n",
       "      <td>False</td>\n",
       "      <td>B/0/P</td>\n",
       "      <td>TRAPPIST-1e</td>\n",
       "      <td>39.0</td>\n",
       "      <td>False</td>\n",
       "      <td>0.0</td>\n",
       "      <td>0.0</td>\n",
       "      <td>0.0</td>\n",
       "      <td>0.0</td>\n",
       "      <td>0.0</td>\n",
       "      <td>Maham Ofracculy</td>\n",
       "      <td>False</td>\n",
       "    </tr>\n",
       "    <tr>\n",
       "      <th>1</th>\n",
       "      <td>0002_01</td>\n",
       "      <td>Earth</td>\n",
       "      <td>False</td>\n",
       "      <td>F/0/S</td>\n",
       "      <td>TRAPPIST-1e</td>\n",
       "      <td>24.0</td>\n",
       "      <td>False</td>\n",
       "      <td>109.0</td>\n",
       "      <td>9.0</td>\n",
       "      <td>25.0</td>\n",
       "      <td>549.0</td>\n",
       "      <td>44.0</td>\n",
       "      <td>Juanna Vines</td>\n",
       "      <td>True</td>\n",
       "    </tr>\n",
       "    <tr>\n",
       "      <th>2</th>\n",
       "      <td>0003_01</td>\n",
       "      <td>Europa</td>\n",
       "      <td>False</td>\n",
       "      <td>A/0/S</td>\n",
       "      <td>TRAPPIST-1e</td>\n",
       "      <td>58.0</td>\n",
       "      <td>True</td>\n",
       "      <td>43.0</td>\n",
       "      <td>3576.0</td>\n",
       "      <td>0.0</td>\n",
       "      <td>6715.0</td>\n",
       "      <td>49.0</td>\n",
       "      <td>Altark Susent</td>\n",
       "      <td>False</td>\n",
       "    </tr>\n",
       "    <tr>\n",
       "      <th>3</th>\n",
       "      <td>0003_02</td>\n",
       "      <td>Europa</td>\n",
       "      <td>False</td>\n",
       "      <td>A/0/S</td>\n",
       "      <td>TRAPPIST-1e</td>\n",
       "      <td>33.0</td>\n",
       "      <td>False</td>\n",
       "      <td>0.0</td>\n",
       "      <td>1283.0</td>\n",
       "      <td>371.0</td>\n",
       "      <td>3329.0</td>\n",
       "      <td>193.0</td>\n",
       "      <td>Solam Susent</td>\n",
       "      <td>False</td>\n",
       "    </tr>\n",
       "    <tr>\n",
       "      <th>4</th>\n",
       "      <td>0004_01</td>\n",
       "      <td>Earth</td>\n",
       "      <td>False</td>\n",
       "      <td>F/1/S</td>\n",
       "      <td>TRAPPIST-1e</td>\n",
       "      <td>16.0</td>\n",
       "      <td>False</td>\n",
       "      <td>303.0</td>\n",
       "      <td>70.0</td>\n",
       "      <td>151.0</td>\n",
       "      <td>565.0</td>\n",
       "      <td>2.0</td>\n",
       "      <td>Willy Santantines</td>\n",
       "      <td>True</td>\n",
       "    </tr>\n",
       "  </tbody>\n",
       "</table>\n",
       "</div>"
      ],
      "text/plain": [
       "  PassengerId HomePlanet  CryoSleep  Cabin  Destination   Age    VIP  \\\n",
       "0     0001_01     Europa      False  B/0/P  TRAPPIST-1e  39.0  False   \n",
       "1     0002_01      Earth      False  F/0/S  TRAPPIST-1e  24.0  False   \n",
       "2     0003_01     Europa      False  A/0/S  TRAPPIST-1e  58.0   True   \n",
       "3     0003_02     Europa      False  A/0/S  TRAPPIST-1e  33.0  False   \n",
       "4     0004_01      Earth      False  F/1/S  TRAPPIST-1e  16.0  False   \n",
       "\n",
       "   RoomService  FoodCourt  ShoppingMall     Spa  VRDeck               Name  \\\n",
       "0          0.0        0.0           0.0     0.0     0.0    Maham Ofracculy   \n",
       "1        109.0        9.0          25.0   549.0    44.0       Juanna Vines   \n",
       "2         43.0     3576.0           0.0  6715.0    49.0      Altark Susent   \n",
       "3          0.0     1283.0         371.0  3329.0   193.0       Solam Susent   \n",
       "4        303.0       70.0         151.0   565.0     2.0  Willy Santantines   \n",
       "\n",
       "   Transported  \n",
       "0        False  \n",
       "1         True  \n",
       "2        False  \n",
       "3        False  \n",
       "4         True  "
      ]
     },
     "execution_count": 33,
     "metadata": {},
     "output_type": "execute_result"
    }
   ],
   "source": [
    "# Descriptive statistics\n",
    "train_data.head()"
   ]
  },
  {
   "cell_type": "code",
   "execution_count": 34,
   "id": "3299ac13",
   "metadata": {
    "execution": {
     "iopub.execute_input": "2023-03-01T02:17:09.071553Z",
     "iopub.status.busy": "2023-03-01T02:17:09.070602Z",
     "iopub.status.idle": "2023-03-01T02:17:10.306388Z",
     "shell.execute_reply": "2023-03-01T02:17:10.305339Z"
    },
    "papermill": {
     "duration": 1.255716,
     "end_time": "2023-03-01T02:17:10.309034",
     "exception": false,
     "start_time": "2023-03-01T02:17:09.053318",
     "status": "completed"
    },
    "tags": []
   },
   "outputs": [],
   "source": [
    "X = train_data.copy()\n",
    "y = X.pop('Transported')\n",
    "\n",
    "# Label Encoding\n",
    "for colname in X.select_dtypes(\"object\"):\n",
    "    X[colname], _ = X[colname].factorize()\n",
    "    \n",
    "discrete_features = X.dtypes == int\n",
    "\n",
    "\n",
    "from sklearn.feature_selection import mutual_info_regression\n",
    "\n",
    "def make_mi_scores(X, y, discrete_features):\n",
    "    mi_scores = mutual_info_regression(X, y, discrete_features=discrete_features)\n",
    "    mi_scores = pd.Series(mi_scores, name=\"MI Scores\", index=X.columns)\n",
    "    mi_scores = mi_scores.sort_values(ascending=False)\n",
    "    return mi_scores\n",
    "\n",
    "# mi_scores = make_mi_scores(X, y, discrete_features)\n",
    "# mi_scores[:3]  # show a few features with their MI scores"
   ]
  },
  {
   "cell_type": "code",
   "execution_count": 35,
   "id": "76def2d9",
   "metadata": {
    "execution": {
     "iopub.execute_input": "2023-03-01T02:17:10.342057Z",
     "iopub.status.busy": "2023-03-01T02:17:10.341696Z",
     "iopub.status.idle": "2023-03-01T02:17:10.351542Z",
     "shell.execute_reply": "2023-03-01T02:17:10.350211Z"
    },
    "papermill": {
     "duration": 0.028523,
     "end_time": "2023-03-01T02:17:10.353392",
     "exception": false,
     "start_time": "2023-03-01T02:17:10.324869",
     "status": "completed"
    },
    "tags": []
   },
   "outputs": [
    {
     "data": {
      "text/plain": [
       "CryoSleep       0.448251\n",
       "Age            -0.080361\n",
       "VIP            -0.025918\n",
       "RoomService    -0.247911\n",
       "FoodCourt       0.054430\n",
       "ShoppingMall    0.006165\n",
       "Spa            -0.221139\n",
       "VRDeck         -0.208297\n",
       "Transported     1.000000\n",
       "Name: Transported, dtype: float64"
      ]
     },
     "execution_count": 35,
     "metadata": {},
     "output_type": "execute_result"
    }
   ],
   "source": [
    "train_data.corr()['Transported']"
   ]
  },
  {
   "cell_type": "code",
   "execution_count": 36,
   "id": "819dfb20",
   "metadata": {
    "execution": {
     "iopub.execute_input": "2023-03-01T02:17:10.386621Z",
     "iopub.status.busy": "2023-03-01T02:17:10.386144Z",
     "iopub.status.idle": "2023-03-01T02:17:10.397188Z",
     "shell.execute_reply": "2023-03-01T02:17:10.395667Z"
    },
    "papermill": {
     "duration": 0.030804,
     "end_time": "2023-03-01T02:17:10.399824",
     "exception": false,
     "start_time": "2023-03-01T02:17:10.369020",
     "status": "completed"
    },
    "tags": []
   },
   "outputs": [
    {
     "data": {
      "text/html": [
       "<div>\n",
       "<style scoped>\n",
       "    .dataframe tbody tr th:only-of-type {\n",
       "        vertical-align: middle;\n",
       "    }\n",
       "\n",
       "    .dataframe tbody tr th {\n",
       "        vertical-align: top;\n",
       "    }\n",
       "\n",
       "    .dataframe thead th {\n",
       "        text-align: right;\n",
       "    }\n",
       "</style>\n",
       "<table border=\"1\" class=\"dataframe\">\n",
       "  <thead>\n",
       "    <tr style=\"text-align: right;\">\n",
       "      <th></th>\n",
       "      <th>Transported</th>\n",
       "    </tr>\n",
       "  </thead>\n",
       "  <tbody>\n",
       "    <tr>\n",
       "      <th>Transported</th>\n",
       "      <td>1.0</td>\n",
       "    </tr>\n",
       "  </tbody>\n",
       "</table>\n",
       "</div>"
      ],
      "text/plain": [
       "             Transported\n",
       "Transported          1.0"
      ]
     },
     "execution_count": 36,
     "metadata": {},
     "output_type": "execute_result"
    }
   ],
   "source": [
    "train_data[['Cabin','Transported']].corr()"
   ]
  },
  {
   "cell_type": "code",
   "execution_count": 37,
   "id": "39a7d6aa",
   "metadata": {
    "execution": {
     "iopub.execute_input": "2023-03-01T02:17:10.434303Z",
     "iopub.status.busy": "2023-03-01T02:17:10.433896Z",
     "iopub.status.idle": "2023-03-01T02:17:10.450950Z",
     "shell.execute_reply": "2023-03-01T02:17:10.450162Z"
    },
    "papermill": {
     "duration": 0.037314,
     "end_time": "2023-03-01T02:17:10.453285",
     "exception": false,
     "start_time": "2023-03-01T02:17:10.415971",
     "status": "completed"
    },
    "tags": []
   },
   "outputs": [],
   "source": [
    "# X_4 = pd.DataFrame()\n",
    "\n",
    "train_data[\"Cabin_side\"] = train_data.Cabin.str.split(\"/\", expand=True)[2]"
   ]
  },
  {
   "cell_type": "code",
   "execution_count": 38,
   "id": "8b8bf445",
   "metadata": {
    "execution": {
     "iopub.execute_input": "2023-03-01T02:17:10.487189Z",
     "iopub.status.busy": "2023-03-01T02:17:10.486343Z",
     "iopub.status.idle": "2023-03-01T02:17:10.506630Z",
     "shell.execute_reply": "2023-03-01T02:17:10.505531Z"
    },
    "papermill": {
     "duration": 0.040294,
     "end_time": "2023-03-01T02:17:10.509550",
     "exception": false,
     "start_time": "2023-03-01T02:17:10.469256",
     "status": "completed"
    },
    "tags": []
   },
   "outputs": [
    {
     "data": {
      "text/html": [
       "<div>\n",
       "<style scoped>\n",
       "    .dataframe tbody tr th:only-of-type {\n",
       "        vertical-align: middle;\n",
       "    }\n",
       "\n",
       "    .dataframe tbody tr th {\n",
       "        vertical-align: top;\n",
       "    }\n",
       "\n",
       "    .dataframe thead th {\n",
       "        text-align: right;\n",
       "    }\n",
       "</style>\n",
       "<table border=\"1\" class=\"dataframe\">\n",
       "  <thead>\n",
       "    <tr style=\"text-align: right;\">\n",
       "      <th></th>\n",
       "      <th>PassengerId</th>\n",
       "      <th>HomePlanet</th>\n",
       "      <th>CryoSleep</th>\n",
       "      <th>Cabin</th>\n",
       "      <th>Destination</th>\n",
       "      <th>Age</th>\n",
       "      <th>VIP</th>\n",
       "      <th>RoomService</th>\n",
       "      <th>FoodCourt</th>\n",
       "      <th>ShoppingMall</th>\n",
       "      <th>Spa</th>\n",
       "      <th>VRDeck</th>\n",
       "      <th>Name</th>\n",
       "      <th>Transported</th>\n",
       "      <th>Cabin_side</th>\n",
       "    </tr>\n",
       "  </thead>\n",
       "  <tbody>\n",
       "    <tr>\n",
       "      <th>0</th>\n",
       "      <td>0001_01</td>\n",
       "      <td>Europa</td>\n",
       "      <td>False</td>\n",
       "      <td>B/0/P</td>\n",
       "      <td>TRAPPIST-1e</td>\n",
       "      <td>39.0</td>\n",
       "      <td>False</td>\n",
       "      <td>0.0</td>\n",
       "      <td>0.0</td>\n",
       "      <td>0.0</td>\n",
       "      <td>0.0</td>\n",
       "      <td>0.0</td>\n",
       "      <td>Maham Ofracculy</td>\n",
       "      <td>False</td>\n",
       "      <td>P</td>\n",
       "    </tr>\n",
       "    <tr>\n",
       "      <th>1</th>\n",
       "      <td>0002_01</td>\n",
       "      <td>Earth</td>\n",
       "      <td>False</td>\n",
       "      <td>F/0/S</td>\n",
       "      <td>TRAPPIST-1e</td>\n",
       "      <td>24.0</td>\n",
       "      <td>False</td>\n",
       "      <td>109.0</td>\n",
       "      <td>9.0</td>\n",
       "      <td>25.0</td>\n",
       "      <td>549.0</td>\n",
       "      <td>44.0</td>\n",
       "      <td>Juanna Vines</td>\n",
       "      <td>True</td>\n",
       "      <td>S</td>\n",
       "    </tr>\n",
       "    <tr>\n",
       "      <th>2</th>\n",
       "      <td>0003_01</td>\n",
       "      <td>Europa</td>\n",
       "      <td>False</td>\n",
       "      <td>A/0/S</td>\n",
       "      <td>TRAPPIST-1e</td>\n",
       "      <td>58.0</td>\n",
       "      <td>True</td>\n",
       "      <td>43.0</td>\n",
       "      <td>3576.0</td>\n",
       "      <td>0.0</td>\n",
       "      <td>6715.0</td>\n",
       "      <td>49.0</td>\n",
       "      <td>Altark Susent</td>\n",
       "      <td>False</td>\n",
       "      <td>S</td>\n",
       "    </tr>\n",
       "    <tr>\n",
       "      <th>3</th>\n",
       "      <td>0003_02</td>\n",
       "      <td>Europa</td>\n",
       "      <td>False</td>\n",
       "      <td>A/0/S</td>\n",
       "      <td>TRAPPIST-1e</td>\n",
       "      <td>33.0</td>\n",
       "      <td>False</td>\n",
       "      <td>0.0</td>\n",
       "      <td>1283.0</td>\n",
       "      <td>371.0</td>\n",
       "      <td>3329.0</td>\n",
       "      <td>193.0</td>\n",
       "      <td>Solam Susent</td>\n",
       "      <td>False</td>\n",
       "      <td>S</td>\n",
       "    </tr>\n",
       "    <tr>\n",
       "      <th>4</th>\n",
       "      <td>0004_01</td>\n",
       "      <td>Earth</td>\n",
       "      <td>False</td>\n",
       "      <td>F/1/S</td>\n",
       "      <td>TRAPPIST-1e</td>\n",
       "      <td>16.0</td>\n",
       "      <td>False</td>\n",
       "      <td>303.0</td>\n",
       "      <td>70.0</td>\n",
       "      <td>151.0</td>\n",
       "      <td>565.0</td>\n",
       "      <td>2.0</td>\n",
       "      <td>Willy Santantines</td>\n",
       "      <td>True</td>\n",
       "      <td>S</td>\n",
       "    </tr>\n",
       "  </tbody>\n",
       "</table>\n",
       "</div>"
      ],
      "text/plain": [
       "  PassengerId HomePlanet  CryoSleep  Cabin  Destination   Age    VIP  \\\n",
       "0     0001_01     Europa      False  B/0/P  TRAPPIST-1e  39.0  False   \n",
       "1     0002_01      Earth      False  F/0/S  TRAPPIST-1e  24.0  False   \n",
       "2     0003_01     Europa      False  A/0/S  TRAPPIST-1e  58.0   True   \n",
       "3     0003_02     Europa      False  A/0/S  TRAPPIST-1e  33.0  False   \n",
       "4     0004_01      Earth      False  F/1/S  TRAPPIST-1e  16.0  False   \n",
       "\n",
       "   RoomService  FoodCourt  ShoppingMall     Spa  VRDeck               Name  \\\n",
       "0          0.0        0.0           0.0     0.0     0.0    Maham Ofracculy   \n",
       "1        109.0        9.0          25.0   549.0    44.0       Juanna Vines   \n",
       "2         43.0     3576.0           0.0  6715.0    49.0      Altark Susent   \n",
       "3          0.0     1283.0         371.0  3329.0   193.0       Solam Susent   \n",
       "4        303.0       70.0         151.0   565.0     2.0  Willy Santantines   \n",
       "\n",
       "   Transported Cabin_side  \n",
       "0        False          P  \n",
       "1         True          S  \n",
       "2        False          S  \n",
       "3        False          S  \n",
       "4         True          S  "
      ]
     },
     "execution_count": 38,
     "metadata": {},
     "output_type": "execute_result"
    }
   ],
   "source": [
    "train_data.head()"
   ]
  },
  {
   "cell_type": "code",
   "execution_count": 39,
   "id": "865f96ca",
   "metadata": {
    "execution": {
     "iopub.execute_input": "2023-03-01T02:17:10.542928Z",
     "iopub.status.busy": "2023-03-01T02:17:10.542575Z",
     "iopub.status.idle": "2023-03-01T02:17:10.554593Z",
     "shell.execute_reply": "2023-03-01T02:17:10.553285Z"
    },
    "papermill": {
     "duration": 0.031046,
     "end_time": "2023-03-01T02:17:10.556723",
     "exception": false,
     "start_time": "2023-03-01T02:17:10.525677",
     "status": "completed"
    },
    "tags": []
   },
   "outputs": [
    {
     "data": {
      "text/html": [
       "<div>\n",
       "<style scoped>\n",
       "    .dataframe tbody tr th:only-of-type {\n",
       "        vertical-align: middle;\n",
       "    }\n",
       "\n",
       "    .dataframe tbody tr th {\n",
       "        vertical-align: top;\n",
       "    }\n",
       "\n",
       "    .dataframe thead th {\n",
       "        text-align: right;\n",
       "    }\n",
       "</style>\n",
       "<table border=\"1\" class=\"dataframe\">\n",
       "  <thead>\n",
       "    <tr style=\"text-align: right;\">\n",
       "      <th></th>\n",
       "      <th>Transported</th>\n",
       "    </tr>\n",
       "  </thead>\n",
       "  <tbody>\n",
       "    <tr>\n",
       "      <th>Transported</th>\n",
       "      <td>1.0</td>\n",
       "    </tr>\n",
       "  </tbody>\n",
       "</table>\n",
       "</div>"
      ],
      "text/plain": [
       "             Transported\n",
       "Transported          1.0"
      ]
     },
     "execution_count": 39,
     "metadata": {},
     "output_type": "execute_result"
    }
   ],
   "source": [
    "train_data[['Cabin_side','Transported']].corr()"
   ]
  },
  {
   "cell_type": "code",
   "execution_count": 40,
   "id": "001ac456",
   "metadata": {
    "execution": {
     "iopub.execute_input": "2023-03-01T02:17:10.591943Z",
     "iopub.status.busy": "2023-03-01T02:17:10.590013Z",
     "iopub.status.idle": "2023-03-01T02:17:10.604410Z",
     "shell.execute_reply": "2023-03-01T02:17:10.603513Z"
    },
    "papermill": {
     "duration": 0.033874,
     "end_time": "2023-03-01T02:17:10.606521",
     "exception": false,
     "start_time": "2023-03-01T02:17:10.572647",
     "status": "completed"
    },
    "tags": []
   },
   "outputs": [
    {
     "data": {
      "text/html": [
       "<div>\n",
       "<style scoped>\n",
       "    .dataframe tbody tr th:only-of-type {\n",
       "        vertical-align: middle;\n",
       "    }\n",
       "\n",
       "    .dataframe tbody tr th {\n",
       "        vertical-align: top;\n",
       "    }\n",
       "\n",
       "    .dataframe thead th {\n",
       "        text-align: right;\n",
       "    }\n",
       "</style>\n",
       "<table border=\"1\" class=\"dataframe\">\n",
       "  <thead>\n",
       "    <tr style=\"text-align: right;\">\n",
       "      <th></th>\n",
       "      <th>Cabin_side_P</th>\n",
       "      <th>Cabin_side_S</th>\n",
       "    </tr>\n",
       "  </thead>\n",
       "  <tbody>\n",
       "    <tr>\n",
       "      <th>0</th>\n",
       "      <td>1</td>\n",
       "      <td>0</td>\n",
       "    </tr>\n",
       "    <tr>\n",
       "      <th>1</th>\n",
       "      <td>0</td>\n",
       "      <td>1</td>\n",
       "    </tr>\n",
       "    <tr>\n",
       "      <th>2</th>\n",
       "      <td>0</td>\n",
       "      <td>1</td>\n",
       "    </tr>\n",
       "    <tr>\n",
       "      <th>3</th>\n",
       "      <td>0</td>\n",
       "      <td>1</td>\n",
       "    </tr>\n",
       "    <tr>\n",
       "      <th>4</th>\n",
       "      <td>0</td>\n",
       "      <td>1</td>\n",
       "    </tr>\n",
       "  </tbody>\n",
       "</table>\n",
       "</div>"
      ],
      "text/plain": [
       "   Cabin_side_P  Cabin_side_S\n",
       "0             1             0\n",
       "1             0             1\n",
       "2             0             1\n",
       "3             0             1\n",
       "4             0             1"
      ]
     },
     "execution_count": 40,
     "metadata": {},
     "output_type": "execute_result"
    }
   ],
   "source": [
    "dummy_cabin = pd.get_dummies(train_data['Cabin_side'],prefix='Cabin_side')\n",
    "dummy_cabin.head()"
   ]
  },
  {
   "cell_type": "code",
   "execution_count": null,
   "id": "21e82737",
   "metadata": {
    "papermill": {
     "duration": 0.016071,
     "end_time": "2023-03-01T02:17:10.638952",
     "exception": false,
     "start_time": "2023-03-01T02:17:10.622881",
     "status": "completed"
    },
    "tags": []
   },
   "outputs": [],
   "source": []
  },
  {
   "cell_type": "code",
   "execution_count": 41,
   "id": "5d9a5837",
   "metadata": {
    "execution": {
     "iopub.execute_input": "2023-03-01T02:17:10.673420Z",
     "iopub.status.busy": "2023-03-01T02:17:10.673074Z",
     "iopub.status.idle": "2023-03-01T02:17:10.691693Z",
     "shell.execute_reply": "2023-03-01T02:17:10.690449Z"
    },
    "papermill": {
     "duration": 0.039038,
     "end_time": "2023-03-01T02:17:10.694631",
     "exception": false,
     "start_time": "2023-03-01T02:17:10.655593",
     "status": "completed"
    },
    "tags": []
   },
   "outputs": [
    {
     "data": {
      "text/html": [
       "<div>\n",
       "<style scoped>\n",
       "    .dataframe tbody tr th:only-of-type {\n",
       "        vertical-align: middle;\n",
       "    }\n",
       "\n",
       "    .dataframe tbody tr th {\n",
       "        vertical-align: top;\n",
       "    }\n",
       "\n",
       "    .dataframe thead th {\n",
       "        text-align: right;\n",
       "    }\n",
       "</style>\n",
       "<table border=\"1\" class=\"dataframe\">\n",
       "  <thead>\n",
       "    <tr style=\"text-align: right;\">\n",
       "      <th></th>\n",
       "      <th>PassengerId</th>\n",
       "      <th>HomePlanet</th>\n",
       "      <th>CryoSleep</th>\n",
       "      <th>Cabin</th>\n",
       "      <th>Destination</th>\n",
       "      <th>Age</th>\n",
       "      <th>VIP</th>\n",
       "      <th>RoomService</th>\n",
       "      <th>FoodCourt</th>\n",
       "      <th>ShoppingMall</th>\n",
       "      <th>Spa</th>\n",
       "      <th>VRDeck</th>\n",
       "      <th>Name</th>\n",
       "      <th>Transported</th>\n",
       "      <th>Cabin_side</th>\n",
       "    </tr>\n",
       "  </thead>\n",
       "  <tbody>\n",
       "    <tr>\n",
       "      <th>0</th>\n",
       "      <td>0001_01</td>\n",
       "      <td>Europa</td>\n",
       "      <td>False</td>\n",
       "      <td>B/0/P</td>\n",
       "      <td>TRAPPIST-1e</td>\n",
       "      <td>39.0</td>\n",
       "      <td>False</td>\n",
       "      <td>0.0</td>\n",
       "      <td>0.0</td>\n",
       "      <td>0.0</td>\n",
       "      <td>0.0</td>\n",
       "      <td>0.0</td>\n",
       "      <td>Maham Ofracculy</td>\n",
       "      <td>False</td>\n",
       "      <td>P</td>\n",
       "    </tr>\n",
       "    <tr>\n",
       "      <th>1</th>\n",
       "      <td>0002_01</td>\n",
       "      <td>Earth</td>\n",
       "      <td>False</td>\n",
       "      <td>F/0/S</td>\n",
       "      <td>TRAPPIST-1e</td>\n",
       "      <td>24.0</td>\n",
       "      <td>False</td>\n",
       "      <td>109.0</td>\n",
       "      <td>9.0</td>\n",
       "      <td>25.0</td>\n",
       "      <td>549.0</td>\n",
       "      <td>44.0</td>\n",
       "      <td>Juanna Vines</td>\n",
       "      <td>True</td>\n",
       "      <td>S</td>\n",
       "    </tr>\n",
       "    <tr>\n",
       "      <th>2</th>\n",
       "      <td>0003_01</td>\n",
       "      <td>Europa</td>\n",
       "      <td>False</td>\n",
       "      <td>A/0/S</td>\n",
       "      <td>TRAPPIST-1e</td>\n",
       "      <td>58.0</td>\n",
       "      <td>True</td>\n",
       "      <td>43.0</td>\n",
       "      <td>3576.0</td>\n",
       "      <td>0.0</td>\n",
       "      <td>6715.0</td>\n",
       "      <td>49.0</td>\n",
       "      <td>Altark Susent</td>\n",
       "      <td>False</td>\n",
       "      <td>S</td>\n",
       "    </tr>\n",
       "    <tr>\n",
       "      <th>3</th>\n",
       "      <td>0003_02</td>\n",
       "      <td>Europa</td>\n",
       "      <td>False</td>\n",
       "      <td>A/0/S</td>\n",
       "      <td>TRAPPIST-1e</td>\n",
       "      <td>33.0</td>\n",
       "      <td>False</td>\n",
       "      <td>0.0</td>\n",
       "      <td>1283.0</td>\n",
       "      <td>371.0</td>\n",
       "      <td>3329.0</td>\n",
       "      <td>193.0</td>\n",
       "      <td>Solam Susent</td>\n",
       "      <td>False</td>\n",
       "      <td>S</td>\n",
       "    </tr>\n",
       "    <tr>\n",
       "      <th>4</th>\n",
       "      <td>0004_01</td>\n",
       "      <td>Earth</td>\n",
       "      <td>False</td>\n",
       "      <td>F/1/S</td>\n",
       "      <td>TRAPPIST-1e</td>\n",
       "      <td>16.0</td>\n",
       "      <td>False</td>\n",
       "      <td>303.0</td>\n",
       "      <td>70.0</td>\n",
       "      <td>151.0</td>\n",
       "      <td>565.0</td>\n",
       "      <td>2.0</td>\n",
       "      <td>Willy Santantines</td>\n",
       "      <td>True</td>\n",
       "      <td>S</td>\n",
       "    </tr>\n",
       "  </tbody>\n",
       "</table>\n",
       "</div>"
      ],
      "text/plain": [
       "  PassengerId HomePlanet  CryoSleep  Cabin  Destination   Age    VIP  \\\n",
       "0     0001_01     Europa      False  B/0/P  TRAPPIST-1e  39.0  False   \n",
       "1     0002_01      Earth      False  F/0/S  TRAPPIST-1e  24.0  False   \n",
       "2     0003_01     Europa      False  A/0/S  TRAPPIST-1e  58.0   True   \n",
       "3     0003_02     Europa      False  A/0/S  TRAPPIST-1e  33.0  False   \n",
       "4     0004_01      Earth      False  F/1/S  TRAPPIST-1e  16.0  False   \n",
       "\n",
       "   RoomService  FoodCourt  ShoppingMall     Spa  VRDeck               Name  \\\n",
       "0          0.0        0.0           0.0     0.0     0.0    Maham Ofracculy   \n",
       "1        109.0        9.0          25.0   549.0    44.0       Juanna Vines   \n",
       "2         43.0     3576.0           0.0  6715.0    49.0      Altark Susent   \n",
       "3          0.0     1283.0         371.0  3329.0   193.0       Solam Susent   \n",
       "4        303.0       70.0         151.0   565.0     2.0  Willy Santantines   \n",
       "\n",
       "   Transported Cabin_side  \n",
       "0        False          P  \n",
       "1         True          S  \n",
       "2        False          S  \n",
       "3        False          S  \n",
       "4         True          S  "
      ]
     },
     "execution_count": 41,
     "metadata": {},
     "output_type": "execute_result"
    }
   ],
   "source": [
    "train_data.head()"
   ]
  },
  {
   "cell_type": "code",
   "execution_count": 42,
   "id": "b2a03168",
   "metadata": {
    "execution": {
     "iopub.execute_input": "2023-03-01T02:17:10.730819Z",
     "iopub.status.busy": "2023-03-01T02:17:10.730398Z",
     "iopub.status.idle": "2023-03-01T02:17:10.741043Z",
     "shell.execute_reply": "2023-03-01T02:17:10.740137Z"
    },
    "papermill": {
     "duration": 0.030736,
     "end_time": "2023-03-01T02:17:10.742856",
     "exception": false,
     "start_time": "2023-03-01T02:17:10.712120",
     "status": "completed"
    },
    "tags": []
   },
   "outputs": [
    {
     "data": {
      "text/plain": [
       "Cabin_side  Destination  \n",
       "P           55 Cancri e       739\n",
       "            PSO J318.5-22     342\n",
       "            TRAPPIST-1e      2580\n",
       "S           55 Cancri e       793\n",
       "            PSO J318.5-22     340\n",
       "Name: Transported, dtype: int64"
      ]
     },
     "execution_count": 42,
     "metadata": {},
     "output_type": "execute_result"
    }
   ],
   "source": [
    "df = train_data.groupby(['Cabin_side','Destination'])['Transported'].count()\n",
    "df.head()"
   ]
  },
  {
   "cell_type": "code",
   "execution_count": 43,
   "id": "a809fb76",
   "metadata": {
    "execution": {
     "iopub.execute_input": "2023-03-01T02:17:10.778248Z",
     "iopub.status.busy": "2023-03-01T02:17:10.777522Z",
     "iopub.status.idle": "2023-03-01T02:17:10.786914Z",
     "shell.execute_reply": "2023-03-01T02:17:10.785613Z"
    },
    "papermill": {
     "duration": 0.029653,
     "end_time": "2023-03-01T02:17:10.789196",
     "exception": false,
     "start_time": "2023-03-01T02:17:10.759543",
     "status": "completed"
    },
    "tags": []
   },
   "outputs": [
    {
     "data": {
      "text/plain": [
       "Destination\n",
       "55 Cancri e      1532\n",
       "PSO J318.5-22     682\n",
       "TRAPPIST-1e      5211\n",
       "Name: Transported, dtype: int64"
      ]
     },
     "execution_count": 43,
     "metadata": {},
     "output_type": "execute_result"
    }
   ],
   "source": [
    "df_destination = train_data.groupby('Destination')['Transported'].count()\n",
    "df_destination.head()"
   ]
  },
  {
   "cell_type": "code",
   "execution_count": 44,
   "id": "1b47c335",
   "metadata": {
    "execution": {
     "iopub.execute_input": "2023-03-01T02:17:10.824727Z",
     "iopub.status.busy": "2023-03-01T02:17:10.824099Z",
     "iopub.status.idle": "2023-03-01T02:17:10.833092Z",
     "shell.execute_reply": "2023-03-01T02:17:10.832172Z"
    },
    "papermill": {
     "duration": 0.028862,
     "end_time": "2023-03-01T02:17:10.834874",
     "exception": false,
     "start_time": "2023-03-01T02:17:10.806012",
     "status": "completed"
    },
    "tags": []
   },
   "outputs": [
    {
     "data": {
      "text/plain": [
       "Cabin_side\n",
       "P    3661\n",
       "S    3764\n",
       "Name: Transported, dtype: int64"
      ]
     },
     "execution_count": 44,
     "metadata": {},
     "output_type": "execute_result"
    }
   ],
   "source": [
    "df_destination = train_data.groupby(['Cabin_side'])['Transported'].count()\n",
    "df_destination.head()"
   ]
  },
  {
   "cell_type": "code",
   "execution_count": 45,
   "id": "74a5b90a",
   "metadata": {
    "execution": {
     "iopub.execute_input": "2023-03-01T02:17:10.869747Z",
     "iopub.status.busy": "2023-03-01T02:17:10.869323Z",
     "iopub.status.idle": "2023-03-01T02:17:10.878496Z",
     "shell.execute_reply": "2023-03-01T02:17:10.877438Z"
    },
    "papermill": {
     "duration": 0.029335,
     "end_time": "2023-03-01T02:17:10.880861",
     "exception": false,
     "start_time": "2023-03-01T02:17:10.851526",
     "status": "completed"
    },
    "tags": []
   },
   "outputs": [
    {
     "data": {
      "text/plain": [
       "CryoSleep\n",
       "False    4686\n",
       "True     2739\n",
       "Name: Transported, dtype: int64"
      ]
     },
     "execution_count": 45,
     "metadata": {},
     "output_type": "execute_result"
    }
   ],
   "source": [
    "df_Cryosleep = train_data.groupby(['CryoSleep'])['Transported'].count()\n",
    "df_Cryosleep.head()"
   ]
  },
  {
   "cell_type": "code",
   "execution_count": 46,
   "id": "e1f61449",
   "metadata": {
    "execution": {
     "iopub.execute_input": "2023-03-01T02:17:10.916820Z",
     "iopub.status.busy": "2023-03-01T02:17:10.916434Z",
     "iopub.status.idle": "2023-03-01T02:17:10.926633Z",
     "shell.execute_reply": "2023-03-01T02:17:10.925739Z"
    },
    "papermill": {
     "duration": 0.030796,
     "end_time": "2023-03-01T02:17:10.928648",
     "exception": false,
     "start_time": "2023-03-01T02:17:10.897852",
     "status": "completed"
    },
    "tags": []
   },
   "outputs": [
    {
     "data": {
      "text/html": [
       "<div>\n",
       "<style scoped>\n",
       "    .dataframe tbody tr th:only-of-type {\n",
       "        vertical-align: middle;\n",
       "    }\n",
       "\n",
       "    .dataframe tbody tr th {\n",
       "        vertical-align: top;\n",
       "    }\n",
       "\n",
       "    .dataframe thead th {\n",
       "        text-align: right;\n",
       "    }\n",
       "</style>\n",
       "<table border=\"1\" class=\"dataframe\">\n",
       "  <thead>\n",
       "    <tr style=\"text-align: right;\">\n",
       "      <th></th>\n",
       "      <th>Transported</th>\n",
       "    </tr>\n",
       "  </thead>\n",
       "  <tbody>\n",
       "    <tr>\n",
       "      <th>Transported</th>\n",
       "      <td>1.0</td>\n",
       "    </tr>\n",
       "  </tbody>\n",
       "</table>\n",
       "</div>"
      ],
      "text/plain": [
       "             Transported\n",
       "Transported          1.0"
      ]
     },
     "execution_count": 46,
     "metadata": {},
     "output_type": "execute_result"
    }
   ],
   "source": [
    "train_data[['HomePlanet','Transported']].corr()"
   ]
  },
  {
   "cell_type": "code",
   "execution_count": 47,
   "id": "39edb3b7",
   "metadata": {
    "execution": {
     "iopub.execute_input": "2023-03-01T02:17:10.964355Z",
     "iopub.status.busy": "2023-03-01T02:17:10.964021Z",
     "iopub.status.idle": "2023-03-01T02:17:10.973450Z",
     "shell.execute_reply": "2023-03-01T02:17:10.972547Z"
    },
    "papermill": {
     "duration": 0.029512,
     "end_time": "2023-03-01T02:17:10.975289",
     "exception": false,
     "start_time": "2023-03-01T02:17:10.945777",
     "status": "completed"
    },
    "tags": []
   },
   "outputs": [
    {
     "data": {
      "text/plain": [
       "Transported     1.000000\n",
       "CryoSleep       0.448251\n",
       "FoodCourt       0.054430\n",
       "ShoppingMall    0.006165\n",
       "VIP            -0.025918\n",
       "Age            -0.080361\n",
       "VRDeck         -0.208297\n",
       "Spa            -0.221139\n",
       "RoomService    -0.247911\n",
       "Name: Transported, dtype: float64"
      ]
     },
     "execution_count": 47,
     "metadata": {},
     "output_type": "execute_result"
    }
   ],
   "source": [
    "train_data.corr()['Transported'].sort_values(ascending=False)"
   ]
  },
  {
   "cell_type": "code",
   "execution_count": 48,
   "id": "9b1a2e3a",
   "metadata": {
    "execution": {
     "iopub.execute_input": "2023-03-01T02:17:11.011705Z",
     "iopub.status.busy": "2023-03-01T02:17:11.011111Z",
     "iopub.status.idle": "2023-03-01T02:17:11.028520Z",
     "shell.execute_reply": "2023-03-01T02:17:11.027630Z"
    },
    "papermill": {
     "duration": 0.037767,
     "end_time": "2023-03-01T02:17:11.030333",
     "exception": false,
     "start_time": "2023-03-01T02:17:10.992566",
     "status": "completed"
    },
    "tags": []
   },
   "outputs": [
    {
     "data": {
      "text/html": [
       "<div>\n",
       "<style scoped>\n",
       "    .dataframe tbody tr th:only-of-type {\n",
       "        vertical-align: middle;\n",
       "    }\n",
       "\n",
       "    .dataframe tbody tr th {\n",
       "        vertical-align: top;\n",
       "    }\n",
       "\n",
       "    .dataframe thead th {\n",
       "        text-align: right;\n",
       "    }\n",
       "</style>\n",
       "<table border=\"1\" class=\"dataframe\">\n",
       "  <thead>\n",
       "    <tr style=\"text-align: right;\">\n",
       "      <th></th>\n",
       "      <th>PassengerId</th>\n",
       "      <th>HomePlanet</th>\n",
       "      <th>CryoSleep</th>\n",
       "      <th>Cabin</th>\n",
       "      <th>Destination</th>\n",
       "      <th>Age</th>\n",
       "      <th>VIP</th>\n",
       "      <th>RoomService</th>\n",
       "      <th>FoodCourt</th>\n",
       "      <th>ShoppingMall</th>\n",
       "      <th>Spa</th>\n",
       "      <th>VRDeck</th>\n",
       "      <th>Name</th>\n",
       "      <th>Transported</th>\n",
       "      <th>Cabin_side</th>\n",
       "    </tr>\n",
       "  </thead>\n",
       "  <tbody>\n",
       "    <tr>\n",
       "      <th>0</th>\n",
       "      <td>0001_01</td>\n",
       "      <td>Europa</td>\n",
       "      <td>False</td>\n",
       "      <td>B/0/P</td>\n",
       "      <td>TRAPPIST-1e</td>\n",
       "      <td>39.0</td>\n",
       "      <td>False</td>\n",
       "      <td>0.0</td>\n",
       "      <td>0.0</td>\n",
       "      <td>0.0</td>\n",
       "      <td>0.0</td>\n",
       "      <td>0.0</td>\n",
       "      <td>Maham Ofracculy</td>\n",
       "      <td>False</td>\n",
       "      <td>P</td>\n",
       "    </tr>\n",
       "    <tr>\n",
       "      <th>1</th>\n",
       "      <td>0002_01</td>\n",
       "      <td>Earth</td>\n",
       "      <td>False</td>\n",
       "      <td>F/0/S</td>\n",
       "      <td>TRAPPIST-1e</td>\n",
       "      <td>24.0</td>\n",
       "      <td>False</td>\n",
       "      <td>109.0</td>\n",
       "      <td>9.0</td>\n",
       "      <td>25.0</td>\n",
       "      <td>549.0</td>\n",
       "      <td>44.0</td>\n",
       "      <td>Juanna Vines</td>\n",
       "      <td>True</td>\n",
       "      <td>S</td>\n",
       "    </tr>\n",
       "    <tr>\n",
       "      <th>2</th>\n",
       "      <td>0003_01</td>\n",
       "      <td>Europa</td>\n",
       "      <td>False</td>\n",
       "      <td>A/0/S</td>\n",
       "      <td>TRAPPIST-1e</td>\n",
       "      <td>58.0</td>\n",
       "      <td>True</td>\n",
       "      <td>43.0</td>\n",
       "      <td>3576.0</td>\n",
       "      <td>0.0</td>\n",
       "      <td>6715.0</td>\n",
       "      <td>49.0</td>\n",
       "      <td>Altark Susent</td>\n",
       "      <td>False</td>\n",
       "      <td>S</td>\n",
       "    </tr>\n",
       "    <tr>\n",
       "      <th>3</th>\n",
       "      <td>0003_02</td>\n",
       "      <td>Europa</td>\n",
       "      <td>False</td>\n",
       "      <td>A/0/S</td>\n",
       "      <td>TRAPPIST-1e</td>\n",
       "      <td>33.0</td>\n",
       "      <td>False</td>\n",
       "      <td>0.0</td>\n",
       "      <td>1283.0</td>\n",
       "      <td>371.0</td>\n",
       "      <td>3329.0</td>\n",
       "      <td>193.0</td>\n",
       "      <td>Solam Susent</td>\n",
       "      <td>False</td>\n",
       "      <td>S</td>\n",
       "    </tr>\n",
       "    <tr>\n",
       "      <th>4</th>\n",
       "      <td>0004_01</td>\n",
       "      <td>Earth</td>\n",
       "      <td>False</td>\n",
       "      <td>F/1/S</td>\n",
       "      <td>TRAPPIST-1e</td>\n",
       "      <td>16.0</td>\n",
       "      <td>False</td>\n",
       "      <td>303.0</td>\n",
       "      <td>70.0</td>\n",
       "      <td>151.0</td>\n",
       "      <td>565.0</td>\n",
       "      <td>2.0</td>\n",
       "      <td>Willy Santantines</td>\n",
       "      <td>True</td>\n",
       "      <td>S</td>\n",
       "    </tr>\n",
       "  </tbody>\n",
       "</table>\n",
       "</div>"
      ],
      "text/plain": [
       "  PassengerId HomePlanet  CryoSleep  Cabin  Destination   Age    VIP  \\\n",
       "0     0001_01     Europa      False  B/0/P  TRAPPIST-1e  39.0  False   \n",
       "1     0002_01      Earth      False  F/0/S  TRAPPIST-1e  24.0  False   \n",
       "2     0003_01     Europa      False  A/0/S  TRAPPIST-1e  58.0   True   \n",
       "3     0003_02     Europa      False  A/0/S  TRAPPIST-1e  33.0  False   \n",
       "4     0004_01      Earth      False  F/1/S  TRAPPIST-1e  16.0  False   \n",
       "\n",
       "   RoomService  FoodCourt  ShoppingMall     Spa  VRDeck               Name  \\\n",
       "0          0.0        0.0           0.0     0.0     0.0    Maham Ofracculy   \n",
       "1        109.0        9.0          25.0   549.0    44.0       Juanna Vines   \n",
       "2         43.0     3576.0           0.0  6715.0    49.0      Altark Susent   \n",
       "3          0.0     1283.0         371.0  3329.0   193.0       Solam Susent   \n",
       "4        303.0       70.0         151.0   565.0     2.0  Willy Santantines   \n",
       "\n",
       "   Transported Cabin_side  \n",
       "0        False          P  \n",
       "1         True          S  \n",
       "2        False          S  \n",
       "3        False          S  \n",
       "4         True          S  "
      ]
     },
     "execution_count": 48,
     "metadata": {},
     "output_type": "execute_result"
    }
   ],
   "source": [
    "train_data.head()"
   ]
  },
  {
   "cell_type": "code",
   "execution_count": 49,
   "id": "e289a710",
   "metadata": {
    "execution": {
     "iopub.execute_input": "2023-03-01T02:17:11.069161Z",
     "iopub.status.busy": "2023-03-01T02:17:11.068520Z",
     "iopub.status.idle": "2023-03-01T02:17:11.074368Z",
     "shell.execute_reply": "2023-03-01T02:17:11.073687Z"
    },
    "papermill": {
     "duration": 0.027264,
     "end_time": "2023-03-01T02:17:11.076488",
     "exception": false,
     "start_time": "2023-03-01T02:17:11.049224",
     "status": "completed"
    },
    "tags": []
   },
   "outputs": [],
   "source": [
    "dummy_destination = pd.get_dummies(train_data['Destination'],prefix='destination')"
   ]
  },
  {
   "cell_type": "code",
   "execution_count": 50,
   "id": "5409a060",
   "metadata": {
    "execution": {
     "iopub.execute_input": "2023-03-01T02:17:11.113366Z",
     "iopub.status.busy": "2023-03-01T02:17:11.112781Z",
     "iopub.status.idle": "2023-03-01T02:17:11.122430Z",
     "shell.execute_reply": "2023-03-01T02:17:11.121031Z"
    },
    "papermill": {
     "duration": 0.030946,
     "end_time": "2023-03-01T02:17:11.124956",
     "exception": false,
     "start_time": "2023-03-01T02:17:11.094010",
     "status": "completed"
    },
    "tags": []
   },
   "outputs": [
    {
     "data": {
      "text/html": [
       "<div>\n",
       "<style scoped>\n",
       "    .dataframe tbody tr th:only-of-type {\n",
       "        vertical-align: middle;\n",
       "    }\n",
       "\n",
       "    .dataframe tbody tr th {\n",
       "        vertical-align: top;\n",
       "    }\n",
       "\n",
       "    .dataframe thead th {\n",
       "        text-align: right;\n",
       "    }\n",
       "</style>\n",
       "<table border=\"1\" class=\"dataframe\">\n",
       "  <thead>\n",
       "    <tr style=\"text-align: right;\">\n",
       "      <th></th>\n",
       "      <th>destination_55 Cancri e</th>\n",
       "      <th>destination_PSO J318.5-22</th>\n",
       "      <th>destination_TRAPPIST-1e</th>\n",
       "    </tr>\n",
       "  </thead>\n",
       "  <tbody>\n",
       "    <tr>\n",
       "      <th>0</th>\n",
       "      <td>0</td>\n",
       "      <td>0</td>\n",
       "      <td>1</td>\n",
       "    </tr>\n",
       "    <tr>\n",
       "      <th>1</th>\n",
       "      <td>0</td>\n",
       "      <td>0</td>\n",
       "      <td>1</td>\n",
       "    </tr>\n",
       "    <tr>\n",
       "      <th>2</th>\n",
       "      <td>0</td>\n",
       "      <td>0</td>\n",
       "      <td>1</td>\n",
       "    </tr>\n",
       "    <tr>\n",
       "      <th>3</th>\n",
       "      <td>0</td>\n",
       "      <td>0</td>\n",
       "      <td>1</td>\n",
       "    </tr>\n",
       "    <tr>\n",
       "      <th>4</th>\n",
       "      <td>0</td>\n",
       "      <td>0</td>\n",
       "      <td>1</td>\n",
       "    </tr>\n",
       "  </tbody>\n",
       "</table>\n",
       "</div>"
      ],
      "text/plain": [
       "   destination_55 Cancri e  destination_PSO J318.5-22  destination_TRAPPIST-1e\n",
       "0                        0                          0                        1\n",
       "1                        0                          0                        1\n",
       "2                        0                          0                        1\n",
       "3                        0                          0                        1\n",
       "4                        0                          0                        1"
      ]
     },
     "execution_count": 50,
     "metadata": {},
     "output_type": "execute_result"
    }
   ],
   "source": [
    "dummy_destination.head()"
   ]
  },
  {
   "cell_type": "code",
   "execution_count": 51,
   "id": "d6dffe1b",
   "metadata": {
    "execution": {
     "iopub.execute_input": "2023-03-01T02:17:11.161868Z",
     "iopub.status.busy": "2023-03-01T02:17:11.161553Z",
     "iopub.status.idle": "2023-03-01T02:17:11.172273Z",
     "shell.execute_reply": "2023-03-01T02:17:11.171595Z"
    },
    "papermill": {
     "duration": 0.032707,
     "end_time": "2023-03-01T02:17:11.175329",
     "exception": false,
     "start_time": "2023-03-01T02:17:11.142622",
     "status": "completed"
    },
    "tags": []
   },
   "outputs": [],
   "source": [
    "#Drop column Destination Column\n",
    "train_data = pd.concat([train_data,dummy_destination],axis=1)\n",
    "train_data.drop(\"Destination\",axis=1,inplace=True)"
   ]
  },
  {
   "cell_type": "code",
   "execution_count": 52,
   "id": "e1e0b127",
   "metadata": {
    "execution": {
     "iopub.execute_input": "2023-03-01T02:17:11.213791Z",
     "iopub.status.busy": "2023-03-01T02:17:11.213421Z",
     "iopub.status.idle": "2023-03-01T02:17:11.232241Z",
     "shell.execute_reply": "2023-03-01T02:17:11.231273Z"
    },
    "papermill": {
     "duration": 0.040323,
     "end_time": "2023-03-01T02:17:11.234351",
     "exception": false,
     "start_time": "2023-03-01T02:17:11.194028",
     "status": "completed"
    },
    "tags": []
   },
   "outputs": [
    {
     "data": {
      "text/html": [
       "<div>\n",
       "<style scoped>\n",
       "    .dataframe tbody tr th:only-of-type {\n",
       "        vertical-align: middle;\n",
       "    }\n",
       "\n",
       "    .dataframe tbody tr th {\n",
       "        vertical-align: top;\n",
       "    }\n",
       "\n",
       "    .dataframe thead th {\n",
       "        text-align: right;\n",
       "    }\n",
       "</style>\n",
       "<table border=\"1\" class=\"dataframe\">\n",
       "  <thead>\n",
       "    <tr style=\"text-align: right;\">\n",
       "      <th></th>\n",
       "      <th>PassengerId</th>\n",
       "      <th>HomePlanet</th>\n",
       "      <th>CryoSleep</th>\n",
       "      <th>Cabin</th>\n",
       "      <th>Age</th>\n",
       "      <th>VIP</th>\n",
       "      <th>RoomService</th>\n",
       "      <th>FoodCourt</th>\n",
       "      <th>ShoppingMall</th>\n",
       "      <th>Spa</th>\n",
       "      <th>VRDeck</th>\n",
       "      <th>Name</th>\n",
       "      <th>Transported</th>\n",
       "      <th>Cabin_side</th>\n",
       "      <th>destination_55 Cancri e</th>\n",
       "      <th>destination_PSO J318.5-22</th>\n",
       "      <th>destination_TRAPPIST-1e</th>\n",
       "    </tr>\n",
       "  </thead>\n",
       "  <tbody>\n",
       "    <tr>\n",
       "      <th>0</th>\n",
       "      <td>0001_01</td>\n",
       "      <td>Europa</td>\n",
       "      <td>False</td>\n",
       "      <td>B/0/P</td>\n",
       "      <td>39.0</td>\n",
       "      <td>False</td>\n",
       "      <td>0.0</td>\n",
       "      <td>0.0</td>\n",
       "      <td>0.0</td>\n",
       "      <td>0.0</td>\n",
       "      <td>0.0</td>\n",
       "      <td>Maham Ofracculy</td>\n",
       "      <td>False</td>\n",
       "      <td>P</td>\n",
       "      <td>0</td>\n",
       "      <td>0</td>\n",
       "      <td>1</td>\n",
       "    </tr>\n",
       "    <tr>\n",
       "      <th>1</th>\n",
       "      <td>0002_01</td>\n",
       "      <td>Earth</td>\n",
       "      <td>False</td>\n",
       "      <td>F/0/S</td>\n",
       "      <td>24.0</td>\n",
       "      <td>False</td>\n",
       "      <td>109.0</td>\n",
       "      <td>9.0</td>\n",
       "      <td>25.0</td>\n",
       "      <td>549.0</td>\n",
       "      <td>44.0</td>\n",
       "      <td>Juanna Vines</td>\n",
       "      <td>True</td>\n",
       "      <td>S</td>\n",
       "      <td>0</td>\n",
       "      <td>0</td>\n",
       "      <td>1</td>\n",
       "    </tr>\n",
       "    <tr>\n",
       "      <th>2</th>\n",
       "      <td>0003_01</td>\n",
       "      <td>Europa</td>\n",
       "      <td>False</td>\n",
       "      <td>A/0/S</td>\n",
       "      <td>58.0</td>\n",
       "      <td>True</td>\n",
       "      <td>43.0</td>\n",
       "      <td>3576.0</td>\n",
       "      <td>0.0</td>\n",
       "      <td>6715.0</td>\n",
       "      <td>49.0</td>\n",
       "      <td>Altark Susent</td>\n",
       "      <td>False</td>\n",
       "      <td>S</td>\n",
       "      <td>0</td>\n",
       "      <td>0</td>\n",
       "      <td>1</td>\n",
       "    </tr>\n",
       "    <tr>\n",
       "      <th>3</th>\n",
       "      <td>0003_02</td>\n",
       "      <td>Europa</td>\n",
       "      <td>False</td>\n",
       "      <td>A/0/S</td>\n",
       "      <td>33.0</td>\n",
       "      <td>False</td>\n",
       "      <td>0.0</td>\n",
       "      <td>1283.0</td>\n",
       "      <td>371.0</td>\n",
       "      <td>3329.0</td>\n",
       "      <td>193.0</td>\n",
       "      <td>Solam Susent</td>\n",
       "      <td>False</td>\n",
       "      <td>S</td>\n",
       "      <td>0</td>\n",
       "      <td>0</td>\n",
       "      <td>1</td>\n",
       "    </tr>\n",
       "    <tr>\n",
       "      <th>4</th>\n",
       "      <td>0004_01</td>\n",
       "      <td>Earth</td>\n",
       "      <td>False</td>\n",
       "      <td>F/1/S</td>\n",
       "      <td>16.0</td>\n",
       "      <td>False</td>\n",
       "      <td>303.0</td>\n",
       "      <td>70.0</td>\n",
       "      <td>151.0</td>\n",
       "      <td>565.0</td>\n",
       "      <td>2.0</td>\n",
       "      <td>Willy Santantines</td>\n",
       "      <td>True</td>\n",
       "      <td>S</td>\n",
       "      <td>0</td>\n",
       "      <td>0</td>\n",
       "      <td>1</td>\n",
       "    </tr>\n",
       "  </tbody>\n",
       "</table>\n",
       "</div>"
      ],
      "text/plain": [
       "  PassengerId HomePlanet  CryoSleep  Cabin   Age    VIP  RoomService  \\\n",
       "0     0001_01     Europa      False  B/0/P  39.0  False          0.0   \n",
       "1     0002_01      Earth      False  F/0/S  24.0  False        109.0   \n",
       "2     0003_01     Europa      False  A/0/S  58.0   True         43.0   \n",
       "3     0003_02     Europa      False  A/0/S  33.0  False          0.0   \n",
       "4     0004_01      Earth      False  F/1/S  16.0  False        303.0   \n",
       "\n",
       "   FoodCourt  ShoppingMall     Spa  VRDeck               Name  Transported  \\\n",
       "0        0.0           0.0     0.0     0.0    Maham Ofracculy        False   \n",
       "1        9.0          25.0   549.0    44.0       Juanna Vines         True   \n",
       "2     3576.0           0.0  6715.0    49.0      Altark Susent        False   \n",
       "3     1283.0         371.0  3329.0   193.0       Solam Susent        False   \n",
       "4       70.0         151.0   565.0     2.0  Willy Santantines         True   \n",
       "\n",
       "  Cabin_side  destination_55 Cancri e  destination_PSO J318.5-22  \\\n",
       "0          P                        0                          0   \n",
       "1          S                        0                          0   \n",
       "2          S                        0                          0   \n",
       "3          S                        0                          0   \n",
       "4          S                        0                          0   \n",
       "\n",
       "   destination_TRAPPIST-1e  \n",
       "0                        1  \n",
       "1                        1  \n",
       "2                        1  \n",
       "3                        1  \n",
       "4                        1  "
      ]
     },
     "execution_count": 52,
     "metadata": {},
     "output_type": "execute_result"
    }
   ],
   "source": [
    "train_data.head()"
   ]
  },
  {
   "cell_type": "code",
   "execution_count": 53,
   "id": "8baff463",
   "metadata": {
    "execution": {
     "iopub.execute_input": "2023-03-01T02:17:11.272223Z",
     "iopub.status.busy": "2023-03-01T02:17:11.271313Z",
     "iopub.status.idle": "2023-03-01T02:17:12.037310Z",
     "shell.execute_reply": "2023-03-01T02:17:12.035213Z"
    },
    "papermill": {
     "duration": 0.788389,
     "end_time": "2023-03-01T02:17:12.040299",
     "exception": false,
     "start_time": "2023-03-01T02:17:11.251910",
     "status": "completed"
    },
    "tags": []
   },
   "outputs": [
    {
     "data": {
      "text/plain": [
       "<AxesSubplot:xlabel='Age', ylabel='Transported'>"
      ]
     },
     "execution_count": 53,
     "metadata": {},
     "output_type": "execute_result"
    },
    {
     "data": {
      "image/png": "[encoded data removed]",
      "text/plain": [
       "<Figure size 640x480 with 1 Axes>"
      ]
     },
     "metadata": {},
     "output_type": "display_data"
    }
   ],
   "source": [
    "import seaborn as sns\n",
    "sns.regplot(x=\"Age\",y=\"Transported\",data=train_data)"
   ]
  },
  {
   "cell_type": "code",
   "execution_count": 54,
   "id": "249d4647",
   "metadata": {
    "execution": {
     "iopub.execute_input": "2023-03-01T02:17:12.080649Z",
     "iopub.status.busy": "2023-03-01T02:17:12.080141Z",
     "iopub.status.idle": "2023-03-01T02:17:12.647412Z",
     "shell.execute_reply": "2023-03-01T02:17:12.646702Z"
    },
    "papermill": {
     "duration": 0.589617,
     "end_time": "2023-03-01T02:17:12.649229",
     "exception": false,
     "start_time": "2023-03-01T02:17:12.059612",
     "status": "completed"
    },
    "tags": []
   },
   "outputs": [
    {
     "data": {
      "text/plain": [
       "<AxesSubplot:xlabel='FoodCourt', ylabel='Transported'>"
      ]
     },
     "execution_count": 54,
     "metadata": {},
     "output_type": "execute_result"
    },
    {
     "data": {
      "image/png": "[encoded data removed]",
      "text/plain": [
       "<Figure size 640x480 with 1 Axes>"
      ]
     },
     "metadata": {},
     "output_type": "display_data"
    }
   ],
   "source": [
    "sns.regplot(x=\"FoodCourt\",y=\"Transported\",data=train_data)"
   ]
  },
  {
   "cell_type": "code",
   "execution_count": 55,
   "id": "e1b71fdb",
   "metadata": {
    "execution": {
     "iopub.execute_input": "2023-03-01T02:17:12.690900Z",
     "iopub.status.busy": "2023-03-01T02:17:12.690537Z",
     "iopub.status.idle": "2023-03-01T02:17:12.695798Z",
     "shell.execute_reply": "2023-03-01T02:17:12.695019Z"
    },
    "papermill": {
     "duration": 0.029477,
     "end_time": "2023-03-01T02:17:12.698013",
     "exception": false,
     "start_time": "2023-03-01T02:17:12.668536",
     "status": "completed"
    },
    "tags": []
   },
   "outputs": [],
   "source": [
    "# Age normalization\n",
    "train_data['Age'] = train_data['Age']/train_data['Age'].max()"
   ]
  },
  {
   "cell_type": "code",
   "execution_count": 56,
   "id": "de95ef8e",
   "metadata": {
    "execution": {
     "iopub.execute_input": "2023-03-01T02:17:12.737589Z",
     "iopub.status.busy": "2023-03-01T02:17:12.737037Z",
     "iopub.status.idle": "2023-03-01T02:17:12.754672Z",
     "shell.execute_reply": "2023-03-01T02:17:12.753696Z"
    },
    "papermill": {
     "duration": 0.039573,
     "end_time": "2023-03-01T02:17:12.756645",
     "exception": false,
     "start_time": "2023-03-01T02:17:12.717072",
     "status": "completed"
    },
    "tags": []
   },
   "outputs": [
    {
     "data": {
      "text/html": [
       "<div>\n",
       "<style scoped>\n",
       "    .dataframe tbody tr th:only-of-type {\n",
       "        vertical-align: middle;\n",
       "    }\n",
       "\n",
       "    .dataframe tbody tr th {\n",
       "        vertical-align: top;\n",
       "    }\n",
       "\n",
       "    .dataframe thead th {\n",
       "        text-align: right;\n",
       "    }\n",
       "</style>\n",
       "<table border=\"1\" class=\"dataframe\">\n",
       "  <thead>\n",
       "    <tr style=\"text-align: right;\">\n",
       "      <th></th>\n",
       "      <th>PassengerId</th>\n",
       "      <th>HomePlanet</th>\n",
       "      <th>CryoSleep</th>\n",
       "      <th>Cabin</th>\n",
       "      <th>Age</th>\n",
       "      <th>VIP</th>\n",
       "      <th>RoomService</th>\n",
       "      <th>FoodCourt</th>\n",
       "      <th>ShoppingMall</th>\n",
       "      <th>Spa</th>\n",
       "      <th>VRDeck</th>\n",
       "      <th>Name</th>\n",
       "      <th>Transported</th>\n",
       "      <th>Cabin_side</th>\n",
       "      <th>destination_55 Cancri e</th>\n",
       "      <th>destination_PSO J318.5-22</th>\n",
       "      <th>destination_TRAPPIST-1e</th>\n",
       "    </tr>\n",
       "  </thead>\n",
       "  <tbody>\n",
       "    <tr>\n",
       "      <th>0</th>\n",
       "      <td>0001_01</td>\n",
       "      <td>Europa</td>\n",
       "      <td>False</td>\n",
       "      <td>B/0/P</td>\n",
       "      <td>0.493671</td>\n",
       "      <td>False</td>\n",
       "      <td>0.0</td>\n",
       "      <td>0.0</td>\n",
       "      <td>0.0</td>\n",
       "      <td>0.0</td>\n",
       "      <td>0.0</td>\n",
       "      <td>Maham Ofracculy</td>\n",
       "      <td>False</td>\n",
       "      <td>P</td>\n",
       "      <td>0</td>\n",
       "      <td>0</td>\n",
       "      <td>1</td>\n",
       "    </tr>\n",
       "    <tr>\n",
       "      <th>1</th>\n",
       "      <td>0002_01</td>\n",
       "      <td>Earth</td>\n",
       "      <td>False</td>\n",
       "      <td>F/0/S</td>\n",
       "      <td>0.303797</td>\n",
       "      <td>False</td>\n",
       "      <td>109.0</td>\n",
       "      <td>9.0</td>\n",
       "      <td>25.0</td>\n",
       "      <td>549.0</td>\n",
       "      <td>44.0</td>\n",
       "      <td>Juanna Vines</td>\n",
       "      <td>True</td>\n",
       "      <td>S</td>\n",
       "      <td>0</td>\n",
       "      <td>0</td>\n",
       "      <td>1</td>\n",
       "    </tr>\n",
       "    <tr>\n",
       "      <th>2</th>\n",
       "      <td>0003_01</td>\n",
       "      <td>Europa</td>\n",
       "      <td>False</td>\n",
       "      <td>A/0/S</td>\n",
       "      <td>0.734177</td>\n",
       "      <td>True</td>\n",
       "      <td>43.0</td>\n",
       "      <td>3576.0</td>\n",
       "      <td>0.0</td>\n",
       "      <td>6715.0</td>\n",
       "      <td>49.0</td>\n",
       "      <td>Altark Susent</td>\n",
       "      <td>False</td>\n",
       "      <td>S</td>\n",
       "      <td>0</td>\n",
       "      <td>0</td>\n",
       "      <td>1</td>\n",
       "    </tr>\n",
       "    <tr>\n",
       "      <th>3</th>\n",
       "      <td>0003_02</td>\n",
       "      <td>Europa</td>\n",
       "      <td>False</td>\n",
       "      <td>A/0/S</td>\n",
       "      <td>0.417722</td>\n",
       "      <td>False</td>\n",
       "      <td>0.0</td>\n",
       "      <td>1283.0</td>\n",
       "      <td>371.0</td>\n",
       "      <td>3329.0</td>\n",
       "      <td>193.0</td>\n",
       "      <td>Solam Susent</td>\n",
       "      <td>False</td>\n",
       "      <td>S</td>\n",
       "      <td>0</td>\n",
       "      <td>0</td>\n",
       "      <td>1</td>\n",
       "    </tr>\n",
       "    <tr>\n",
       "      <th>4</th>\n",
       "      <td>0004_01</td>\n",
       "      <td>Earth</td>\n",
       "      <td>False</td>\n",
       "      <td>F/1/S</td>\n",
       "      <td>0.202532</td>\n",
       "      <td>False</td>\n",
       "      <td>303.0</td>\n",
       "      <td>70.0</td>\n",
       "      <td>151.0</td>\n",
       "      <td>565.0</td>\n",
       "      <td>2.0</td>\n",
       "      <td>Willy Santantines</td>\n",
       "      <td>True</td>\n",
       "      <td>S</td>\n",
       "      <td>0</td>\n",
       "      <td>0</td>\n",
       "      <td>1</td>\n",
       "    </tr>\n",
       "  </tbody>\n",
       "</table>\n",
       "</div>"
      ],
      "text/plain": [
       "  PassengerId HomePlanet  CryoSleep  Cabin       Age    VIP  RoomService  \\\n",
       "0     0001_01     Europa      False  B/0/P  0.493671  False          0.0   \n",
       "1     0002_01      Earth      False  F/0/S  0.303797  False        109.0   \n",
       "2     0003_01     Europa      False  A/0/S  0.734177   True         43.0   \n",
       "3     0003_02     Europa      False  A/0/S  0.417722  False          0.0   \n",
       "4     0004_01      Earth      False  F/1/S  0.202532  False        303.0   \n",
       "\n",
       "   FoodCourt  ShoppingMall     Spa  VRDeck               Name  Transported  \\\n",
       "0        0.0           0.0     0.0     0.0    Maham Ofracculy        False   \n",
       "1        9.0          25.0   549.0    44.0       Juanna Vines         True   \n",
       "2     3576.0           0.0  6715.0    49.0      Altark Susent        False   \n",
       "3     1283.0         371.0  3329.0   193.0       Solam Susent        False   \n",
       "4       70.0         151.0   565.0     2.0  Willy Santantines         True   \n",
       "\n",
       "  Cabin_side  destination_55 Cancri e  destination_PSO J318.5-22  \\\n",
       "0          P                        0                          0   \n",
       "1          S                        0                          0   \n",
       "2          S                        0                          0   \n",
       "3          S                        0                          0   \n",
       "4          S                        0                          0   \n",
       "\n",
       "   destination_TRAPPIST-1e  \n",
       "0                        1  \n",
       "1                        1  \n",
       "2                        1  \n",
       "3                        1  \n",
       "4                        1  "
      ]
     },
     "execution_count": 56,
     "metadata": {},
     "output_type": "execute_result"
    }
   ],
   "source": [
    "train_data.head()"
   ]
  },
  {
   "cell_type": "code",
   "execution_count": 57,
   "id": "3f60fa35",
   "metadata": {
    "execution": {
     "iopub.execute_input": "2023-03-01T02:17:12.796787Z",
     "iopub.status.busy": "2023-03-01T02:17:12.796255Z",
     "iopub.status.idle": "2023-03-01T02:17:12.814415Z",
     "shell.execute_reply": "2023-03-01T02:17:12.813393Z"
    },
    "papermill": {
     "duration": 0.040583,
     "end_time": "2023-03-01T02:17:12.816289",
     "exception": false,
     "start_time": "2023-03-01T02:17:12.775706",
     "status": "completed"
    },
    "tags": []
   },
   "outputs": [
    {
     "data": {
      "text/html": [
       "<div>\n",
       "<style scoped>\n",
       "    .dataframe tbody tr th:only-of-type {\n",
       "        vertical-align: middle;\n",
       "    }\n",
       "\n",
       "    .dataframe tbody tr th {\n",
       "        vertical-align: top;\n",
       "    }\n",
       "\n",
       "    .dataframe thead th {\n",
       "        text-align: right;\n",
       "    }\n",
       "</style>\n",
       "<table border=\"1\" class=\"dataframe\">\n",
       "  <thead>\n",
       "    <tr style=\"text-align: right;\">\n",
       "      <th></th>\n",
       "      <th>PassengerId</th>\n",
       "      <th>HomePlanet</th>\n",
       "      <th>CryoSleep</th>\n",
       "      <th>Cabin</th>\n",
       "      <th>Destination</th>\n",
       "      <th>Age</th>\n",
       "      <th>VIP</th>\n",
       "      <th>RoomService</th>\n",
       "      <th>FoodCourt</th>\n",
       "      <th>ShoppingMall</th>\n",
       "      <th>Spa</th>\n",
       "      <th>VRDeck</th>\n",
       "      <th>Name</th>\n",
       "    </tr>\n",
       "  </thead>\n",
       "  <tbody>\n",
       "    <tr>\n",
       "      <th>0</th>\n",
       "      <td>0013_01</td>\n",
       "      <td>Earth</td>\n",
       "      <td>True</td>\n",
       "      <td>G/3/S</td>\n",
       "      <td>TRAPPIST-1e</td>\n",
       "      <td>27.0</td>\n",
       "      <td>False</td>\n",
       "      <td>0.0</td>\n",
       "      <td>0.0</td>\n",
       "      <td>0.0</td>\n",
       "      <td>0.0</td>\n",
       "      <td>0.0</td>\n",
       "      <td>Nelly Carsoning</td>\n",
       "    </tr>\n",
       "    <tr>\n",
       "      <th>1</th>\n",
       "      <td>0018_01</td>\n",
       "      <td>Earth</td>\n",
       "      <td>False</td>\n",
       "      <td>F/4/S</td>\n",
       "      <td>TRAPPIST-1e</td>\n",
       "      <td>19.0</td>\n",
       "      <td>False</td>\n",
       "      <td>0.0</td>\n",
       "      <td>9.0</td>\n",
       "      <td>0.0</td>\n",
       "      <td>2823.0</td>\n",
       "      <td>0.0</td>\n",
       "      <td>Lerome Peckers</td>\n",
       "    </tr>\n",
       "    <tr>\n",
       "      <th>2</th>\n",
       "      <td>0019_01</td>\n",
       "      <td>Europa</td>\n",
       "      <td>True</td>\n",
       "      <td>C/0/S</td>\n",
       "      <td>55 Cancri e</td>\n",
       "      <td>31.0</td>\n",
       "      <td>False</td>\n",
       "      <td>0.0</td>\n",
       "      <td>0.0</td>\n",
       "      <td>0.0</td>\n",
       "      <td>0.0</td>\n",
       "      <td>0.0</td>\n",
       "      <td>Sabih Unhearfus</td>\n",
       "    </tr>\n",
       "    <tr>\n",
       "      <th>3</th>\n",
       "      <td>0021_01</td>\n",
       "      <td>Europa</td>\n",
       "      <td>False</td>\n",
       "      <td>C/1/S</td>\n",
       "      <td>TRAPPIST-1e</td>\n",
       "      <td>38.0</td>\n",
       "      <td>False</td>\n",
       "      <td>0.0</td>\n",
       "      <td>6652.0</td>\n",
       "      <td>0.0</td>\n",
       "      <td>181.0</td>\n",
       "      <td>585.0</td>\n",
       "      <td>Meratz Caltilter</td>\n",
       "    </tr>\n",
       "    <tr>\n",
       "      <th>4</th>\n",
       "      <td>0023_01</td>\n",
       "      <td>Earth</td>\n",
       "      <td>False</td>\n",
       "      <td>F/5/S</td>\n",
       "      <td>TRAPPIST-1e</td>\n",
       "      <td>20.0</td>\n",
       "      <td>False</td>\n",
       "      <td>10.0</td>\n",
       "      <td>0.0</td>\n",
       "      <td>635.0</td>\n",
       "      <td>0.0</td>\n",
       "      <td>0.0</td>\n",
       "      <td>Brence Harperez</td>\n",
       "    </tr>\n",
       "  </tbody>\n",
       "</table>\n",
       "</div>"
      ],
      "text/plain": [
       "  PassengerId HomePlanet CryoSleep  Cabin  Destination   Age    VIP  \\\n",
       "0     0013_01      Earth      True  G/3/S  TRAPPIST-1e  27.0  False   \n",
       "1     0018_01      Earth     False  F/4/S  TRAPPIST-1e  19.0  False   \n",
       "2     0019_01     Europa      True  C/0/S  55 Cancri e  31.0  False   \n",
       "3     0021_01     Europa     False  C/1/S  TRAPPIST-1e  38.0  False   \n",
       "4     0023_01      Earth     False  F/5/S  TRAPPIST-1e  20.0  False   \n",
       "\n",
       "   RoomService  FoodCourt  ShoppingMall     Spa  VRDeck              Name  \n",
       "0          0.0        0.0           0.0     0.0     0.0   Nelly Carsoning  \n",
       "1          0.0        9.0           0.0  2823.0     0.0    Lerome Peckers  \n",
       "2          0.0        0.0           0.0     0.0     0.0   Sabih Unhearfus  \n",
       "3          0.0     6652.0           0.0   181.0   585.0  Meratz Caltilter  \n",
       "4         10.0        0.0         635.0     0.0     0.0   Brence Harperez  "
      ]
     },
     "execution_count": 57,
     "metadata": {},
     "output_type": "execute_result"
    }
   ],
   "source": [
    "test_data.head()"
   ]
  },
  {
   "cell_type": "code",
   "execution_count": 58,
   "id": "fd1630e1",
   "metadata": {
    "execution": {
     "iopub.execute_input": "2023-03-01T02:17:12.858313Z",
     "iopub.status.busy": "2023-03-01T02:17:12.857946Z",
     "iopub.status.idle": "2023-03-01T02:17:12.867000Z",
     "shell.execute_reply": "2023-03-01T02:17:12.866313Z"
    },
    "papermill": {
     "duration": 0.031996,
     "end_time": "2023-03-01T02:17:12.869165",
     "exception": false,
     "start_time": "2023-03-01T02:17:12.837169",
     "status": "completed"
    },
    "tags": []
   },
   "outputs": [],
   "source": [
    "#Drop all rows with missing values\n",
    "test_data.dropna(inplace=True)"
   ]
  },
  {
   "cell_type": "code",
   "execution_count": 59,
   "id": "7cd29904",
   "metadata": {
    "execution": {
     "iopub.execute_input": "2023-03-01T02:17:12.911919Z",
     "iopub.status.busy": "2023-03-01T02:17:12.911214Z",
     "iopub.status.idle": "2023-03-01T02:17:12.920489Z",
     "shell.execute_reply": "2023-03-01T02:17:12.919831Z"
    },
    "papermill": {
     "duration": 0.032797,
     "end_time": "2023-03-01T02:17:12.922930",
     "exception": false,
     "start_time": "2023-03-01T02:17:12.890133",
     "status": "completed"
    },
    "tags": []
   },
   "outputs": [
    {
     "data": {
      "text/plain": [
       "PassengerId     0\n",
       "HomePlanet      0\n",
       "CryoSleep       0\n",
       "Cabin           0\n",
       "Destination     0\n",
       "Age             0\n",
       "VIP             0\n",
       "RoomService     0\n",
       "FoodCourt       0\n",
       "ShoppingMall    0\n",
       "Spa             0\n",
       "VRDeck          0\n",
       "Name            0\n",
       "dtype: int64"
      ]
     },
     "execution_count": 59,
     "metadata": {},
     "output_type": "execute_result"
    }
   ],
   "source": [
    "test_data.isnull().sum()"
   ]
  },
  {
   "cell_type": "code",
   "execution_count": 60,
   "id": "018e33f7",
   "metadata": {
    "execution": {
     "iopub.execute_input": "2023-03-01T02:17:12.965736Z",
     "iopub.status.busy": "2023-03-01T02:17:12.965101Z",
     "iopub.status.idle": "2023-03-01T02:17:12.970263Z",
     "shell.execute_reply": "2023-03-01T02:17:12.969624Z"
    },
    "papermill": {
     "duration": 0.029239,
     "end_time": "2023-03-01T02:17:12.972061",
     "exception": false,
     "start_time": "2023-03-01T02:17:12.942822",
     "status": "completed"
    },
    "tags": []
   },
   "outputs": [],
   "source": [
    "test_data['Age'] = test_data['Age']/test_data['Age'].max()"
   ]
  },
  {
   "cell_type": "code",
   "execution_count": 61,
   "id": "c7b7a243",
   "metadata": {
    "execution": {
     "iopub.execute_input": "2023-03-01T02:17:13.012081Z",
     "iopub.status.busy": "2023-03-01T02:17:13.011515Z",
     "iopub.status.idle": "2023-03-01T02:17:13.020862Z",
     "shell.execute_reply": "2023-03-01T02:17:13.019877Z"
    },
    "papermill": {
     "duration": 0.032711,
     "end_time": "2023-03-01T02:17:13.023695",
     "exception": false,
     "start_time": "2023-03-01T02:17:12.990984",
     "status": "completed"
    },
    "tags": []
   },
   "outputs": [],
   "source": [
    "dummy_destination = pd.get_dummies(test_data['Destination'],prefix='destination')\n",
    "test_data = pd.concat([test_data,dummy_destination],axis=1)\n",
    "test_data.drop(\"Destination\",axis=1,inplace=True)"
   ]
  },
  {
   "cell_type": "code",
   "execution_count": 62,
   "id": "5ccd8e64",
   "metadata": {
    "execution": {
     "iopub.execute_input": "2023-03-01T02:17:13.064711Z",
     "iopub.status.busy": "2023-03-01T02:17:13.064189Z",
     "iopub.status.idle": "2023-03-01T02:17:13.081677Z",
     "shell.execute_reply": "2023-03-01T02:17:13.080288Z"
    },
    "papermill": {
     "duration": 0.041218,
     "end_time": "2023-03-01T02:17:13.084334",
     "exception": false,
     "start_time": "2023-03-01T02:17:13.043116",
     "status": "completed"
    },
    "tags": []
   },
   "outputs": [
    {
     "data": {
      "text/html": [
       "<div>\n",
       "<style scoped>\n",
       "    .dataframe tbody tr th:only-of-type {\n",
       "        vertical-align: middle;\n",
       "    }\n",
       "\n",
       "    .dataframe tbody tr th {\n",
       "        vertical-align: top;\n",
       "    }\n",
       "\n",
       "    .dataframe thead th {\n",
       "        text-align: right;\n",
       "    }\n",
       "</style>\n",
       "<table border=\"1\" class=\"dataframe\">\n",
       "  <thead>\n",
       "    <tr style=\"text-align: right;\">\n",
       "      <th></th>\n",
       "      <th>PassengerId</th>\n",
       "      <th>HomePlanet</th>\n",
       "      <th>CryoSleep</th>\n",
       "      <th>Cabin</th>\n",
       "      <th>Age</th>\n",
       "      <th>VIP</th>\n",
       "      <th>RoomService</th>\n",
       "      <th>FoodCourt</th>\n",
       "      <th>ShoppingMall</th>\n",
       "      <th>Spa</th>\n",
       "      <th>VRDeck</th>\n",
       "      <th>Name</th>\n",
       "      <th>destination_55 Cancri e</th>\n",
       "      <th>destination_PSO J318.5-22</th>\n",
       "      <th>destination_TRAPPIST-1e</th>\n",
       "    </tr>\n",
       "  </thead>\n",
       "  <tbody>\n",
       "    <tr>\n",
       "      <th>0</th>\n",
       "      <td>0013_01</td>\n",
       "      <td>Earth</td>\n",
       "      <td>True</td>\n",
       "      <td>G/3/S</td>\n",
       "      <td>0.341772</td>\n",
       "      <td>False</td>\n",
       "      <td>0.0</td>\n",
       "      <td>0.0</td>\n",
       "      <td>0.0</td>\n",
       "      <td>0.0</td>\n",
       "      <td>0.0</td>\n",
       "      <td>Nelly Carsoning</td>\n",
       "      <td>0</td>\n",
       "      <td>0</td>\n",
       "      <td>1</td>\n",
       "    </tr>\n",
       "    <tr>\n",
       "      <th>1</th>\n",
       "      <td>0018_01</td>\n",
       "      <td>Earth</td>\n",
       "      <td>False</td>\n",
       "      <td>F/4/S</td>\n",
       "      <td>0.240506</td>\n",
       "      <td>False</td>\n",
       "      <td>0.0</td>\n",
       "      <td>9.0</td>\n",
       "      <td>0.0</td>\n",
       "      <td>2823.0</td>\n",
       "      <td>0.0</td>\n",
       "      <td>Lerome Peckers</td>\n",
       "      <td>0</td>\n",
       "      <td>0</td>\n",
       "      <td>1</td>\n",
       "    </tr>\n",
       "    <tr>\n",
       "      <th>2</th>\n",
       "      <td>0019_01</td>\n",
       "      <td>Europa</td>\n",
       "      <td>True</td>\n",
       "      <td>C/0/S</td>\n",
       "      <td>0.392405</td>\n",
       "      <td>False</td>\n",
       "      <td>0.0</td>\n",
       "      <td>0.0</td>\n",
       "      <td>0.0</td>\n",
       "      <td>0.0</td>\n",
       "      <td>0.0</td>\n",
       "      <td>Sabih Unhearfus</td>\n",
       "      <td>1</td>\n",
       "      <td>0</td>\n",
       "      <td>0</td>\n",
       "    </tr>\n",
       "    <tr>\n",
       "      <th>3</th>\n",
       "      <td>0021_01</td>\n",
       "      <td>Europa</td>\n",
       "      <td>False</td>\n",
       "      <td>C/1/S</td>\n",
       "      <td>0.481013</td>\n",
       "      <td>False</td>\n",
       "      <td>0.0</td>\n",
       "      <td>6652.0</td>\n",
       "      <td>0.0</td>\n",
       "      <td>181.0</td>\n",
       "      <td>585.0</td>\n",
       "      <td>Meratz Caltilter</td>\n",
       "      <td>0</td>\n",
       "      <td>0</td>\n",
       "      <td>1</td>\n",
       "    </tr>\n",
       "    <tr>\n",
       "      <th>4</th>\n",
       "      <td>0023_01</td>\n",
       "      <td>Earth</td>\n",
       "      <td>False</td>\n",
       "      <td>F/5/S</td>\n",
       "      <td>0.253165</td>\n",
       "      <td>False</td>\n",
       "      <td>10.0</td>\n",
       "      <td>0.0</td>\n",
       "      <td>635.0</td>\n",
       "      <td>0.0</td>\n",
       "      <td>0.0</td>\n",
       "      <td>Brence Harperez</td>\n",
       "      <td>0</td>\n",
       "      <td>0</td>\n",
       "      <td>1</td>\n",
       "    </tr>\n",
       "  </tbody>\n",
       "</table>\n",
       "</div>"
      ],
      "text/plain": [
       "  PassengerId HomePlanet CryoSleep  Cabin       Age    VIP  RoomService  \\\n",
       "0     0013_01      Earth      True  G/3/S  0.341772  False          0.0   \n",
       "1     0018_01      Earth     False  F/4/S  0.240506  False          0.0   \n",
       "2     0019_01     Europa      True  C/0/S  0.392405  False          0.0   \n",
       "3     0021_01     Europa     False  C/1/S  0.481013  False          0.0   \n",
       "4     0023_01      Earth     False  F/5/S  0.253165  False         10.0   \n",
       "\n",
       "   FoodCourt  ShoppingMall     Spa  VRDeck              Name  \\\n",
       "0        0.0           0.0     0.0     0.0   Nelly Carsoning   \n",
       "1        9.0           0.0  2823.0     0.0    Lerome Peckers   \n",
       "2        0.0           0.0     0.0     0.0   Sabih Unhearfus   \n",
       "3     6652.0           0.0   181.0   585.0  Meratz Caltilter   \n",
       "4        0.0         635.0     0.0     0.0   Brence Harperez   \n",
       "\n",
       "   destination_55 Cancri e  destination_PSO J318.5-22  destination_TRAPPIST-1e  \n",
       "0                        0                          0                        1  \n",
       "1                        0                          0                        1  \n",
       "2                        1                          0                        0  \n",
       "3                        0                          0                        1  \n",
       "4                        0                          0                        1  "
      ]
     },
     "execution_count": 62,
     "metadata": {},
     "output_type": "execute_result"
    }
   ],
   "source": [
    "test_data.head()"
   ]
  },
  {
   "cell_type": "code",
   "execution_count": 63,
   "id": "d7b25f8b",
   "metadata": {
    "execution": {
     "iopub.execute_input": "2023-03-01T02:17:13.125777Z",
     "iopub.status.busy": "2023-03-01T02:17:13.125386Z",
     "iopub.status.idle": "2023-03-01T02:17:13.144312Z",
     "shell.execute_reply": "2023-03-01T02:17:13.143221Z"
    },
    "papermill": {
     "duration": 0.042368,
     "end_time": "2023-03-01T02:17:13.146411",
     "exception": false,
     "start_time": "2023-03-01T02:17:13.104043",
     "status": "completed"
    },
    "tags": []
   },
   "outputs": [
    {
     "data": {
      "text/html": [
       "<div>\n",
       "<style scoped>\n",
       "    .dataframe tbody tr th:only-of-type {\n",
       "        vertical-align: middle;\n",
       "    }\n",
       "\n",
       "    .dataframe tbody tr th {\n",
       "        vertical-align: top;\n",
       "    }\n",
       "\n",
       "    .dataframe thead th {\n",
       "        text-align: right;\n",
       "    }\n",
       "</style>\n",
       "<table border=\"1\" class=\"dataframe\">\n",
       "  <thead>\n",
       "    <tr style=\"text-align: right;\">\n",
       "      <th></th>\n",
       "      <th>Cabin_side_P</th>\n",
       "      <th>Cabin_side_S</th>\n",
       "    </tr>\n",
       "  </thead>\n",
       "  <tbody>\n",
       "    <tr>\n",
       "      <th>0</th>\n",
       "      <td>0</td>\n",
       "      <td>1</td>\n",
       "    </tr>\n",
       "    <tr>\n",
       "      <th>1</th>\n",
       "      <td>0</td>\n",
       "      <td>1</td>\n",
       "    </tr>\n",
       "    <tr>\n",
       "      <th>2</th>\n",
       "      <td>0</td>\n",
       "      <td>1</td>\n",
       "    </tr>\n",
       "    <tr>\n",
       "      <th>3</th>\n",
       "      <td>0</td>\n",
       "      <td>1</td>\n",
       "    </tr>\n",
       "    <tr>\n",
       "      <th>4</th>\n",
       "      <td>0</td>\n",
       "      <td>1</td>\n",
       "    </tr>\n",
       "  </tbody>\n",
       "</table>\n",
       "</div>"
      ],
      "text/plain": [
       "   Cabin_side_P  Cabin_side_S\n",
       "0             0             1\n",
       "1             0             1\n",
       "2             0             1\n",
       "3             0             1\n",
       "4             0             1"
      ]
     },
     "execution_count": 63,
     "metadata": {},
     "output_type": "execute_result"
    }
   ],
   "source": [
    "test_data[\"Cabin_side\"] = test_data.Cabin.str.split(\"/\", expand=True)[2]\n",
    "dummy_cabin01 = pd.get_dummies(test_data['Cabin_side'],prefix='Cabin_side')\n",
    "dummy_cabin01.head()"
   ]
  },
  {
   "cell_type": "code",
   "execution_count": 64,
   "id": "c9d36726",
   "metadata": {
    "execution": {
     "iopub.execute_input": "2023-03-01T02:17:13.188581Z",
     "iopub.status.busy": "2023-03-01T02:17:13.187507Z",
     "iopub.status.idle": "2023-03-01T02:17:13.198333Z",
     "shell.execute_reply": "2023-03-01T02:17:13.197294Z"
    },
    "papermill": {
     "duration": 0.033959,
     "end_time": "2023-03-01T02:17:13.200349",
     "exception": false,
     "start_time": "2023-03-01T02:17:13.166390",
     "status": "completed"
    },
    "tags": []
   },
   "outputs": [
    {
     "data": {
      "text/plain": [
       "Transported                  1.000000\n",
       "CryoSleep                    0.448251\n",
       "destination_55 Cancri e      0.121659\n",
       "FoodCourt                    0.054430\n",
       "destination_PSO J318.5-22    0.006638\n",
       "ShoppingMall                 0.006165\n",
       "VIP                         -0.025918\n",
       "Age                         -0.080361\n",
       "destination_TRAPPIST-1e     -0.111811\n",
       "VRDeck                      -0.208297\n",
       "Spa                         -0.221139\n",
       "RoomService                 -0.247911\n",
       "Name: Transported, dtype: float64"
      ]
     },
     "execution_count": 64,
     "metadata": {},
     "output_type": "execute_result"
    }
   ],
   "source": [
    "train_data.corr()['Transported'].sort_values(ascending=False)"
   ]
  },
  {
   "cell_type": "code",
   "execution_count": 65,
   "id": "59a032bf",
   "metadata": {
    "execution": {
     "iopub.execute_input": "2023-03-01T02:17:13.242177Z",
     "iopub.status.busy": "2023-03-01T02:17:13.241815Z",
     "iopub.status.idle": "2023-03-01T02:17:13.261452Z",
     "shell.execute_reply": "2023-03-01T02:17:13.260308Z"
    },
    "papermill": {
     "duration": 0.0433,
     "end_time": "2023-03-01T02:17:13.263735",
     "exception": false,
     "start_time": "2023-03-01T02:17:13.220435",
     "status": "completed"
    },
    "tags": []
   },
   "outputs": [
    {
     "data": {
      "text/html": [
       "<div>\n",
       "<style scoped>\n",
       "    .dataframe tbody tr th:only-of-type {\n",
       "        vertical-align: middle;\n",
       "    }\n",
       "\n",
       "    .dataframe tbody tr th {\n",
       "        vertical-align: top;\n",
       "    }\n",
       "\n",
       "    .dataframe thead th {\n",
       "        text-align: right;\n",
       "    }\n",
       "</style>\n",
       "<table border=\"1\" class=\"dataframe\">\n",
       "  <thead>\n",
       "    <tr style=\"text-align: right;\">\n",
       "      <th></th>\n",
       "      <th>PassengerId</th>\n",
       "      <th>HomePlanet</th>\n",
       "      <th>CryoSleep</th>\n",
       "      <th>Cabin</th>\n",
       "      <th>Age</th>\n",
       "      <th>VIP</th>\n",
       "      <th>RoomService</th>\n",
       "      <th>FoodCourt</th>\n",
       "      <th>ShoppingMall</th>\n",
       "      <th>Spa</th>\n",
       "      <th>VRDeck</th>\n",
       "      <th>Name</th>\n",
       "      <th>destination_55 Cancri e</th>\n",
       "      <th>destination_PSO J318.5-22</th>\n",
       "      <th>destination_TRAPPIST-1e</th>\n",
       "      <th>Cabin_side</th>\n",
       "    </tr>\n",
       "  </thead>\n",
       "  <tbody>\n",
       "    <tr>\n",
       "      <th>0</th>\n",
       "      <td>0013_01</td>\n",
       "      <td>Earth</td>\n",
       "      <td>True</td>\n",
       "      <td>G/3/S</td>\n",
       "      <td>0.341772</td>\n",
       "      <td>False</td>\n",
       "      <td>0.0</td>\n",
       "      <td>0.0</td>\n",
       "      <td>0.0</td>\n",
       "      <td>0.0</td>\n",
       "      <td>0.0</td>\n",
       "      <td>Nelly Carsoning</td>\n",
       "      <td>0</td>\n",
       "      <td>0</td>\n",
       "      <td>1</td>\n",
       "      <td>S</td>\n",
       "    </tr>\n",
       "    <tr>\n",
       "      <th>1</th>\n",
       "      <td>0018_01</td>\n",
       "      <td>Earth</td>\n",
       "      <td>False</td>\n",
       "      <td>F/4/S</td>\n",
       "      <td>0.240506</td>\n",
       "      <td>False</td>\n",
       "      <td>0.0</td>\n",
       "      <td>9.0</td>\n",
       "      <td>0.0</td>\n",
       "      <td>2823.0</td>\n",
       "      <td>0.0</td>\n",
       "      <td>Lerome Peckers</td>\n",
       "      <td>0</td>\n",
       "      <td>0</td>\n",
       "      <td>1</td>\n",
       "      <td>S</td>\n",
       "    </tr>\n",
       "    <tr>\n",
       "      <th>2</th>\n",
       "      <td>0019_01</td>\n",
       "      <td>Europa</td>\n",
       "      <td>True</td>\n",
       "      <td>C/0/S</td>\n",
       "      <td>0.392405</td>\n",
       "      <td>False</td>\n",
       "      <td>0.0</td>\n",
       "      <td>0.0</td>\n",
       "      <td>0.0</td>\n",
       "      <td>0.0</td>\n",
       "      <td>0.0</td>\n",
       "      <td>Sabih Unhearfus</td>\n",
       "      <td>1</td>\n",
       "      <td>0</td>\n",
       "      <td>0</td>\n",
       "      <td>S</td>\n",
       "    </tr>\n",
       "    <tr>\n",
       "      <th>3</th>\n",
       "      <td>0021_01</td>\n",
       "      <td>Europa</td>\n",
       "      <td>False</td>\n",
       "      <td>C/1/S</td>\n",
       "      <td>0.481013</td>\n",
       "      <td>False</td>\n",
       "      <td>0.0</td>\n",
       "      <td>6652.0</td>\n",
       "      <td>0.0</td>\n",
       "      <td>181.0</td>\n",
       "      <td>585.0</td>\n",
       "      <td>Meratz Caltilter</td>\n",
       "      <td>0</td>\n",
       "      <td>0</td>\n",
       "      <td>1</td>\n",
       "      <td>S</td>\n",
       "    </tr>\n",
       "    <tr>\n",
       "      <th>4</th>\n",
       "      <td>0023_01</td>\n",
       "      <td>Earth</td>\n",
       "      <td>False</td>\n",
       "      <td>F/5/S</td>\n",
       "      <td>0.253165</td>\n",
       "      <td>False</td>\n",
       "      <td>10.0</td>\n",
       "      <td>0.0</td>\n",
       "      <td>635.0</td>\n",
       "      <td>0.0</td>\n",
       "      <td>0.0</td>\n",
       "      <td>Brence Harperez</td>\n",
       "      <td>0</td>\n",
       "      <td>0</td>\n",
       "      <td>1</td>\n",
       "      <td>S</td>\n",
       "    </tr>\n",
       "  </tbody>\n",
       "</table>\n",
       "</div>"
      ],
      "text/plain": [
       "  PassengerId HomePlanet CryoSleep  Cabin       Age    VIP  RoomService  \\\n",
       "0     0013_01      Earth      True  G/3/S  0.341772  False          0.0   \n",
       "1     0018_01      Earth     False  F/4/S  0.240506  False          0.0   \n",
       "2     0019_01     Europa      True  C/0/S  0.392405  False          0.0   \n",
       "3     0021_01     Europa     False  C/1/S  0.481013  False          0.0   \n",
       "4     0023_01      Earth     False  F/5/S  0.253165  False         10.0   \n",
       "\n",
       "   FoodCourt  ShoppingMall     Spa  VRDeck              Name  \\\n",
       "0        0.0           0.0     0.0     0.0   Nelly Carsoning   \n",
       "1        9.0           0.0  2823.0     0.0    Lerome Peckers   \n",
       "2        0.0           0.0     0.0     0.0   Sabih Unhearfus   \n",
       "3     6652.0           0.0   181.0   585.0  Meratz Caltilter   \n",
       "4        0.0         635.0     0.0     0.0   Brence Harperez   \n",
       "\n",
       "   destination_55 Cancri e  destination_PSO J318.5-22  \\\n",
       "0                        0                          0   \n",
       "1                        0                          0   \n",
       "2                        1                          0   \n",
       "3                        0                          0   \n",
       "4                        0                          0   \n",
       "\n",
       "   destination_TRAPPIST-1e Cabin_side  \n",
       "0                        1          S  \n",
       "1                        1          S  \n",
       "2                        0          S  \n",
       "3                        1          S  \n",
       "4                        1          S  "
      ]
     },
     "execution_count": 65,
     "metadata": {},
     "output_type": "execute_result"
    }
   ],
   "source": [
    "test_data.head()"
   ]
  },
  {
   "cell_type": "code",
   "execution_count": 66,
   "id": "fb040230",
   "metadata": {
    "execution": {
     "iopub.execute_input": "2023-03-01T02:17:13.304889Z",
     "iopub.status.busy": "2023-03-01T02:17:13.304567Z",
     "iopub.status.idle": "2023-03-01T02:17:13.778520Z",
     "shell.execute_reply": "2023-03-01T02:17:13.776842Z"
    },
    "papermill": {
     "duration": 0.497625,
     "end_time": "2023-03-01T02:17:13.781154",
     "exception": false,
     "start_time": "2023-03-01T02:17:13.283529",
     "status": "completed"
    },
    "tags": []
   },
   "outputs": [
    {
     "name": "stdout",
     "output_type": "stream",
     "text": [
      "Your submission was successfully saved!\n"
     ]
    }
   ],
   "source": [
    "from sklearn.ensemble import RandomForestClassifier\n",
    "\n",
    "y = train_data[\"Transported\"]\n",
    "\n",
    "features = [\"CryoSleep\", \"FoodCourt\", \"Age\",\"destination_55 Cancri e\",\"destination_PSO J318.5-22\",\"destination_TRAPPIST-1e\"]\n",
    "X = train_data[features]\n",
    "X_test = test_data[features]\n",
    "\n",
    "model = RandomForestClassifier(n_estimators=100, max_depth=5, random_state=1)\n",
    "model.fit(X, y)\n",
    "predictions = model.predict(X_test)\n",
    "predictions\n",
    "\n",
    "output = pd.DataFrame({'PassengerId': test_data.PassengerId, 'Transported': predictions})\n",
    "output.to_csv('submission.csv', index=False)\n",
    "print(\"Your submission was successfully saved!\")"
   ]
  },
  {
   "cell_type": "code",
   "execution_count": null,
   "id": "021205c6",
   "metadata": {
    "papermill": {
     "duration": 0.020233,
     "end_time": "2023-03-01T02:17:13.822640",
     "exception": false,
     "start_time": "2023-03-01T02:17:13.802407",
     "status": "completed"
    },
    "tags": []
   },
   "outputs": [],
   "source": []
  }
 ],
 "metadata": {
  "kernelspec": {
   "display_name": "Python 3",
   "language": "python",
   "name": "python3"
  },
  "language_info": {
   "codemirror_mode": {
    "name": "ipython",
    "version": 3
   },
   "file_extension": ".py",
   "mimetype": "text/x-python",
   "name": "python",
   "nbconvert_exporter": "python",
   "pygments_lexer": "ipython3",
   "version": "3.7.12"
  },
  "papermill": {
   "default_parameters": {},
   "duration": 16.488732,
   "end_time": "2023-03-01T02:17:14.565840",
   "environment_variables": {},
   "exception": null,
   "input_path": "__notebook__.ipynb",
   "output_path": "__notebook__.ipynb",
   "parameters": {},
   "start_time": "2023-03-01T02:16:58.077108",
   "version": "2.3.4"
  }
 },
 "nbformat": 4,
 "nbformat_minor": 5
}
